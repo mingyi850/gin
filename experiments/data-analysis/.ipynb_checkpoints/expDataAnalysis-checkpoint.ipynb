{
 "cells": [
  {
   "cell_type": "code",
   "execution_count": 83,
   "metadata": {},
   "outputs": [],
   "source": [
    "import pandas as pd\n",
    "import numpy as np\n",
    "import scipy as sp\n",
    "import matplotlib.pyplot as plt\n",
    "import sys\n",
    "import os\n",
    "import seaborn as sns\n",
    "import statsmodels.formula.api as smf\n",
    "import matplotlib\n",
    "\n",
    "\n"
   ]
  },
  {
   "cell_type": "code",
   "execution_count": 84,
   "metadata": {},
   "outputs": [],
   "source": [
    "sns.set(font='sans-serif')\n",
    "\n",
    "sns.set_context('paper')"
   ]
  },
  {
   "cell_type": "code",
   "execution_count": 85,
   "metadata": {},
   "outputs": [],
   "source": [
    "\n",
    "matplotlib.use(\"pgf\")\n",
    "matplotlib.rcParams.update({\n",
    "    \"pgf.texsystem\": \"pdflatex\",\n",
    "    'font.family': 'serif',\n",
    "    'text.usetex': True,\n",
    "    'pgf.rcfonts': False,\n",
    "})"
   ]
  },
  {
   "cell_type": "code",
   "execution_count": 86,
   "metadata": {},
   "outputs": [
    {
     "name": "stdout",
     "output_type": "stream",
     "text": [
      "['..\\\\experiment-results\\\\analysis-ready\\\\experiment_results_locogp_2_iter_01-05-20-0314.csv', '..\\\\experiment-results\\\\analysis-ready\\\\experiment_results_locogp_2_iter_01-05-20-1028.csv', '..\\\\experiment-results\\\\analysis-ready\\\\experiment_results_locogp_2_iter_02-05-20-0224 (1).csv', '..\\\\experiment-results\\\\analysis-ready\\\\experiment_results_locogp_2_iter_02-05-20-0637 (1).csv', '..\\\\experiment-results\\\\analysis-ready\\\\experiment_results_locogp_2_iter_02-05-20-0903.csv', '..\\\\experiment-results\\\\analysis-ready\\\\experiment_results_locogp_2_iter_03-05-20-0628.csv', '..\\\\experiment-results\\\\analysis-ready\\\\experiment_results_locogp_2_iter_03-05-20-1034.csv', '..\\\\experiment-results\\\\analysis-ready\\\\experiment_results_locogp_2_iter_03-05-20-1147.csv', '..\\\\experiment-results\\\\analysis-ready\\\\experiment_results_locogp_2_iter_29-04-20-0329.csv', '..\\\\experiment-results\\\\analysis-ready\\\\experiment_results_locogp_2_iter_29-04-20-0621.csv', '..\\\\experiment-results\\\\analysis-ready\\\\experiment_results_locogp_2_iter_29-04-20-1246.csv']\n"
     ]
    }
   ],
   "source": [
    "#Obtain all .csv files required\n",
    "sep = os.path.sep\n",
    "resultsdir = sep.join([\"..\", \"experiment-results\", \"analysis-ready\"])\n",
    "filelist = [resultsdir + sep + f for f in os.listdir(resultsdir) if f[-4:]=='.csv']\n",
    "print(filelist)"
   ]
  },
  {
   "cell_type": "code",
   "execution_count": 87,
   "metadata": {},
   "outputs": [
    {
     "name": "stdout",
     "output_type": "stream",
     "text": [
      "<class 'pandas.core.frame.DataFrame'>\n",
      "Int64Index: 7260 entries, 61 to 32550\n",
      "Data columns (total 22 columns):\n",
      "Index                    7260 non-null int64\n",
      "TARGET_CLASS             7260 non-null object\n",
      "criterion                7260 non-null object\n",
      "Size                     7040 non-null float64\n",
      "Length                   7260 non-null int64\n",
      "Fitness                  7260 non-null float64\n",
      "Total_Time               7260 non-null int64\n",
      "evo_seed                 7040 non-null float64\n",
      "BRANCH_Coverage          7260 non-null int64\n",
      "LINE_Coverage            7260 non-null int64\n",
      "WEAKMUTATION_Coverage    7260 non-null int64\n",
      "CBRANCH_Coverage         7260 non-null int64\n",
      "sampled                  7040 non-null object\n",
      "gin_seed                 7040 non-null float64\n",
      "patch                    7260 non-null object\n",
      "validpatch               7260 non-null bool\n",
      "success                  7260 non-null bool\n",
      "avgtime                  7260 non-null object\n",
      "speedup                  7260 non-null float64\n",
      "intermediate             7260 non-null bool\n",
      "correctness              7260 non-null bool\n",
      "AVG_coverage             7260 non-null float64\n",
      "dtypes: bool(4), float64(6), int64(7), object(5)\n",
      "memory usage: 1.1+ MB\n"
     ]
    }
   ],
   "source": [
    "#Create dataframe from all experiment results\n",
    "criterionList = [\"BRANCH\", \"LINE\", \"WEAKMUTATION\", \"CBRANCH\"]\n",
    "full_intermediate_df = pd.concat([pd.read_csv(f) for f in filelist])\n",
    "full_intermediate_df = full_intermediate_df.drop_duplicates()\n",
    "#insert correctnes option\n",
    "full_intermediate_df[\"correctness\"] = (full_intermediate_df[\"success\"] == True) & (full_intermediate_df[\"validpatch\"] == True) \n",
    "full_intermediate_df[\"AVG_coverage\"] = sum([full_intermediate_df[x + \"_Coverage\"] for x in criterionList]) / len(criterionList)\n",
    "\n",
    "#create normal df with no intermediate patches\n",
    "full_df = full_intermediate_df.loc[(full_intermediate_df[\"intermediate\"]==False)]\n",
    "full_df = full_df.astype({\"speedup\" : 'float64'})\n",
    "full_df[\"correctness\"] = (full_df[\"success\"] == True) & (full_df[\"validpatch\"] == True) & (full_df[\"speedup\"] > -10)\n",
    "full_df.info()\n",
    "full_df.reset_index(drop=True, inplace=True)\n",
    "\n",
    "\n"
   ]
  },
  {
   "cell_type": "code",
   "execution_count": 88,
   "metadata": {},
   "outputs": [
    {
     "name": "stdout",
     "output_type": "stream",
     "text": [
      "0        23.893042\n",
      "1         0.000000\n",
      "2         0.000000\n",
      "3         0.000000\n",
      "4         0.000000\n",
      "5         0.000000\n",
      "6         0.000000\n",
      "7         0.000000\n",
      "8         0.000000\n",
      "9        19.299410\n",
      "10        0.000000\n",
      "11        0.000000\n",
      "12        0.000000\n",
      "13        0.000000\n",
      "14        0.000000\n",
      "15        0.000000\n",
      "16        0.000000\n",
      "17        0.000000\n",
      "18        0.000000\n",
      "19       18.486217\n",
      "20      -16.415926\n",
      "21       27.962595\n",
      "22        0.000000\n",
      "23        0.000000\n",
      "24       10.202429\n",
      "25        0.000000\n",
      "26        0.000000\n",
      "27        0.000000\n",
      "28        0.000000\n",
      "29       32.603980\n",
      "           ...    \n",
      "7230      0.000000\n",
      "7231      1.582711\n",
      "7232      0.000000\n",
      "7233      0.000000\n",
      "7234      0.000000\n",
      "7235      0.000000\n",
      "7236     -9.912890\n",
      "7237     -9.611514\n",
      "7238      0.000000\n",
      "7239      0.000000\n",
      "7240      9.538959\n",
      "7241      0.000000\n",
      "7242      0.000000\n",
      "7243      0.799815\n",
      "7244      0.000000\n",
      "7245      0.000000\n",
      "7246      0.000000\n",
      "7247      0.000000\n",
      "7248      0.000000\n",
      "7249      3.655404\n",
      "7250      0.000000\n",
      "7251      0.000000\n",
      "7252      0.000000\n",
      "7253      0.000000\n",
      "7254   -247.768950\n",
      "7255      0.525761\n",
      "7256      0.000000\n",
      "7257      0.000000\n",
      "7258      0.000000\n",
      "7259      0.000000\n",
      "Name: speedup, Length: 7260, dtype: float64\n"
     ]
    }
   ],
   "source": [
    "print(full_df[\"speedup\"])"
   ]
  },
  {
   "cell_type": "code",
   "execution_count": 89,
   "metadata": {},
   "outputs": [
    {
     "name": "stdout",
     "output_type": "stream",
     "text": [
      "      Index             TARGET_CLASS criterion  Size  Length  Fitness  \\\n",
      "0         1     locogp.SortInsertion    BRANCH   4.0      15      0.0   \n",
      "1         2     locogp.SortInsertion    BRANCH   4.0      15      0.0   \n",
      "2         3     locogp.SortInsertion    BRANCH   4.0      15      0.0   \n",
      "3         4     locogp.SortInsertion    BRANCH   4.0      15      0.0   \n",
      "4         5     locogp.SortInsertion    BRANCH   4.0      15      0.0   \n",
      "5         6     locogp.SortInsertion    BRANCH   4.0      15      0.0   \n",
      "6         7     locogp.SortInsertion    BRANCH   4.0      15      0.0   \n",
      "7         8     locogp.SortInsertion    BRANCH   4.0      15      0.0   \n",
      "8         9     locogp.SortInsertion    BRANCH   4.0      15      0.0   \n",
      "9        10     locogp.SortInsertion    BRANCH   4.0      15      0.0   \n",
      "10       11     locogp.SortInsertion    BRANCH   4.0      15      0.0   \n",
      "11       12     locogp.SortInsertion    BRANCH   4.0      15      0.0   \n",
      "12       13     locogp.SortInsertion    BRANCH   4.0      15      0.0   \n",
      "13       14     locogp.SortInsertion    BRANCH   4.0      15      0.0   \n",
      "14       15     locogp.SortInsertion    BRANCH   4.0      15      0.0   \n",
      "15       16     locogp.SortInsertion    BRANCH   4.0      15      0.0   \n",
      "16       17     locogp.SortInsertion    BRANCH   4.0      15      0.0   \n",
      "17       18     locogp.SortInsertion    BRANCH   4.0      15      0.0   \n",
      "18       19     locogp.SortInsertion    BRANCH   4.0      15      0.0   \n",
      "19       20     locogp.SortInsertion    BRANCH   4.0      15      0.0   \n",
      "80       81     locogp.SortInsertion    BRANCH   3.0      12      0.0   \n",
      "81       82     locogp.SortInsertion    BRANCH   3.0      12      0.0   \n",
      "82       83     locogp.SortInsertion    BRANCH   3.0      12      0.0   \n",
      "83       84     locogp.SortInsertion    BRANCH   3.0      12      0.0   \n",
      "84       85     locogp.SortInsertion    BRANCH   3.0      12      0.0   \n",
      "85       86     locogp.SortInsertion    BRANCH   3.0      12      0.0   \n",
      "86       87     locogp.SortInsertion    BRANCH   3.0      12      0.0   \n",
      "87       88     locogp.SortInsertion    BRANCH   3.0      12      0.0   \n",
      "88       89     locogp.SortInsertion    BRANCH   3.0      12      0.0   \n",
      "89       90     locogp.SortInsertion    BRANCH   3.0      12      0.0   \n",
      "...     ...                      ...       ...   ...     ...      ...   \n",
      "7090    491  locogp.SortBubbleDouble   CBRANCH   3.0      18      0.5   \n",
      "7091    492  locogp.SortBubbleDouble   CBRANCH   3.0      18      0.5   \n",
      "7092    493  locogp.SortBubbleDouble   CBRANCH   3.0      18      0.5   \n",
      "7093    494  locogp.SortBubbleDouble   CBRANCH   3.0      18      0.5   \n",
      "7094    495  locogp.SortBubbleDouble   CBRANCH   3.0      18      0.5   \n",
      "7095    496  locogp.SortBubbleDouble   CBRANCH   3.0      18      0.5   \n",
      "7096    497  locogp.SortBubbleDouble   CBRANCH   3.0      18      0.5   \n",
      "7097    498  locogp.SortBubbleDouble   CBRANCH   3.0      18      0.5   \n",
      "7098    499  locogp.SortBubbleDouble   CBRANCH   3.0      18      0.5   \n",
      "7099    500  locogp.SortBubbleDouble   CBRANCH   3.0      18      0.5   \n",
      "7160    561  locogp.SortBubbleDouble   CBRANCH   3.0      14      0.5   \n",
      "7161    562  locogp.SortBubbleDouble   CBRANCH   3.0      14      0.5   \n",
      "7162    563  locogp.SortBubbleDouble   CBRANCH   3.0      14      0.5   \n",
      "7163    564  locogp.SortBubbleDouble   CBRANCH   3.0      14      0.5   \n",
      "7164    565  locogp.SortBubbleDouble   CBRANCH   3.0      14      0.5   \n",
      "7165    566  locogp.SortBubbleDouble   CBRANCH   3.0      14      0.5   \n",
      "7166    567  locogp.SortBubbleDouble   CBRANCH   3.0      14      0.5   \n",
      "7167    568  locogp.SortBubbleDouble   CBRANCH   3.0      14      0.5   \n",
      "7168    569  locogp.SortBubbleDouble   CBRANCH   3.0      14      0.5   \n",
      "7169    570  locogp.SortBubbleDouble   CBRANCH   3.0      14      0.5   \n",
      "7170    571  locogp.SortBubbleDouble   CBRANCH   3.0      14      0.5   \n",
      "7171    572  locogp.SortBubbleDouble   CBRANCH   3.0      14      0.5   \n",
      "7172    573  locogp.SortBubbleDouble   CBRANCH   3.0      14      0.5   \n",
      "7173    574  locogp.SortBubbleDouble   CBRANCH   3.0      14      0.5   \n",
      "7174    575  locogp.SortBubbleDouble   CBRANCH   3.0      14      0.5   \n",
      "7175    576  locogp.SortBubbleDouble   CBRANCH   3.0      14      0.5   \n",
      "7176    577  locogp.SortBubbleDouble   CBRANCH   3.0      14      0.5   \n",
      "7177    578  locogp.SortBubbleDouble   CBRANCH   3.0      14      0.5   \n",
      "7178    579  locogp.SortBubbleDouble   CBRANCH   3.0      14      0.5   \n",
      "7179    580  locogp.SortBubbleDouble   CBRANCH   3.0      14      0.5   \n",
      "\n",
      "      Total_Time  evo_seed  BRANCH_Coverage  LINE_Coverage  ...  sampled  \\\n",
      "0           2540      76.0              100            100  ...    False   \n",
      "1           2540      76.0              100            100  ...    False   \n",
      "2           2540      76.0              100            100  ...    False   \n",
      "3           2540      76.0              100            100  ...    False   \n",
      "4           2540      76.0              100            100  ...    False   \n",
      "5           2540      76.0              100            100  ...    False   \n",
      "6           2540      76.0              100            100  ...    False   \n",
      "7           2540      76.0              100            100  ...    False   \n",
      "8           2540      76.0              100            100  ...    False   \n",
      "9           2540      76.0              100            100  ...    False   \n",
      "10          2540      76.0              100            100  ...    False   \n",
      "11          2540      76.0              100            100  ...    False   \n",
      "12          2540      76.0              100            100  ...    False   \n",
      "13          2540      76.0              100            100  ...    False   \n",
      "14          2540      76.0              100            100  ...    False   \n",
      "15          2540      76.0              100            100  ...    False   \n",
      "16          2540      76.0              100            100  ...    False   \n",
      "17          2540      76.0              100            100  ...    False   \n",
      "18          2540      76.0              100            100  ...    False   \n",
      "19          2540      76.0              100            100  ...    False   \n",
      "80          6292      63.0              100            100  ...    False   \n",
      "81          6292      63.0              100            100  ...    False   \n",
      "82          6292      63.0              100            100  ...    False   \n",
      "83          6292      63.0              100            100  ...    False   \n",
      "84          6292      63.0              100            100  ...    False   \n",
      "85          6292      63.0              100            100  ...    False   \n",
      "86          6292      63.0              100            100  ...    False   \n",
      "87          6292      63.0              100            100  ...    False   \n",
      "88          6292      63.0              100            100  ...    False   \n",
      "89          6292      63.0              100            100  ...    False   \n",
      "...          ...       ...              ...            ...  ...      ...   \n",
      "7090        7574      55.0               92             79  ...    False   \n",
      "7091        7574      55.0               92             79  ...    False   \n",
      "7092        7574      55.0               92             79  ...    False   \n",
      "7093        7574      55.0               92             79  ...    False   \n",
      "7094        7574      55.0               92             79  ...    False   \n",
      "7095        7574      55.0               92             79  ...    False   \n",
      "7096        7574      55.0               92             79  ...    False   \n",
      "7097        7574      55.0               92             79  ...    False   \n",
      "7098        7574      55.0               92             79  ...    False   \n",
      "7099        7574      55.0               92             79  ...    False   \n",
      "7160        8546      21.0               92             79  ...    False   \n",
      "7161        8546      21.0               92             79  ...    False   \n",
      "7162        8546      21.0               92             79  ...    False   \n",
      "7163        8546      21.0               92             79  ...    False   \n",
      "7164        8546      21.0               92             79  ...    False   \n",
      "7165        8546      21.0               92             79  ...    False   \n",
      "7166        8546      21.0               92             79  ...    False   \n",
      "7167        8546      21.0               92             79  ...    False   \n",
      "7168        8546      21.0               92             79  ...    False   \n",
      "7169        8546      21.0               92             79  ...    False   \n",
      "7170        8546      21.0               92             79  ...    False   \n",
      "7171        8546      21.0               92             79  ...    False   \n",
      "7172        8546      21.0               92             79  ...    False   \n",
      "7173        8546      21.0               92             79  ...    False   \n",
      "7174        8546      21.0               92             79  ...    False   \n",
      "7175        8546      21.0               92             79  ...    False   \n",
      "7176        8546      21.0               92             79  ...    False   \n",
      "7177        8546      21.0               92             79  ...    False   \n",
      "7178        8546      21.0               92             79  ...    False   \n",
      "7179        8546      21.0               92             79  ...    False   \n",
      "\n",
      "      gin_seed                                              patch  validpatch  \\\n",
      "0         85.0  | gin.edit.statement.DeleteStatement ../exampl...        True   \n",
      "1         88.0                                                  |       False   \n",
      "2         47.0                                                  |       False   \n",
      "3         13.0                                                  |       False   \n",
      "4         54.0                                                  |       False   \n",
      "5          4.0                                                  |       False   \n",
      "6         34.0                                                  |       False   \n",
      "7          6.0                                                  |       False   \n",
      "8         78.0                                                  |       False   \n",
      "9         48.0  | gin.edit.statement.ReplaceStatement ../examp...        True   \n",
      "10        69.0                                                  |       False   \n",
      "11        73.0                                                  |       False   \n",
      "12        17.0                                                  |       False   \n",
      "13        63.0                                                  |       False   \n",
      "14        62.0                                                  |       False   \n",
      "15        34.0                                                  |       False   \n",
      "16        92.0                                                  |       False   \n",
      "17        62.0                                                  |       False   \n",
      "18        96.0                                                  |       False   \n",
      "19        89.0  | gin.edit.statement.SwapStatement ../examples...        True   \n",
      "80        94.0                                                  |       False   \n",
      "81         3.0                                                  |       False   \n",
      "82         1.0  | gin.edit.statement.DeleteStatement ../exampl...        True   \n",
      "83        10.0  | gin.edit.statement.DeleteStatement ../exampl...        True   \n",
      "84        16.0  | gin.edit.statement.CopyStatement ../examples...        True   \n",
      "85        63.0  | gin.edit.statement.DeleteStatement ../exampl...        True   \n",
      "86        13.0                                                  |       False   \n",
      "87        97.0  | gin.edit.statement.ReplaceStatement ../examp...        True   \n",
      "88        47.0  | gin.edit.statement.CopyStatement ../examples...        True   \n",
      "89        87.0  | gin.edit.statement.ReplaceStatement ../examp...        True   \n",
      "...        ...                                                ...         ...   \n",
      "7090      20.0  | gin.edit.statement.SwapStatement ../examples...        True   \n",
      "7091      19.0  | gin.edit.statement.ReplaceStatement ../examp...        True   \n",
      "7092      90.0                                                  |       False   \n",
      "7093      38.0                                                  |       False   \n",
      "7094      90.0  | gin.edit.statement.DeleteStatement ../exampl...        True   \n",
      "7095       6.0                                                  |       False   \n",
      "7096      14.0                                                  |       False   \n",
      "7097      85.0                                                  |       False   \n",
      "7098      30.0                                                  |       False   \n",
      "7099      47.0                                                  |       False   \n",
      "7160      50.0                                                  |       False   \n",
      "7161      98.0                                                  |       False   \n",
      "7162      30.0                                                  |       False   \n",
      "7163      37.0                                                  |       False   \n",
      "7164      46.0                                                  |       False   \n",
      "7165      99.0  | gin.edit.statement.SwapStatement ../examples...        True   \n",
      "7166      33.0                                                  |       False   \n",
      "7167      85.0                                                  |       False   \n",
      "7168      48.0                                                  |       False   \n",
      "7169      93.0                                                  |       False   \n",
      "7170       8.0                                                  |       False   \n",
      "7171      35.0                                                  |       False   \n",
      "7172      40.0                                                  |       False   \n",
      "7173      72.0                                                  |       False   \n",
      "7174      71.0                                                  |       False   \n",
      "7175      92.0                                                  |       False   \n",
      "7176      60.0                                                  |       False   \n",
      "7177      39.0                                                  |       False   \n",
      "7178      35.0                                                  |       False   \n",
      "7179      12.0                                                  |       False   \n",
      "\n",
      "     success      avgtime       speedup intermediate  correctness  \\\n",
      "0      False       898280     23.893042        False        False   \n",
      "1       True            0      0.000000        False        False   \n",
      "2       True            0      0.000000        False        False   \n",
      "3       True            0      0.000000        False        False   \n",
      "4       True            0      0.000000        False        False   \n",
      "5       True            0      0.000000        False        False   \n",
      "6       True            0      0.000000        False        False   \n",
      "7       True            0      0.000000        False        False   \n",
      "8       True            0      0.000000        False        False   \n",
      "9      False       944518     19.299410        False        False   \n",
      "10      True            0      0.000000        False        False   \n",
      "11      True            0      0.000000        False        False   \n",
      "12      True            0      0.000000        False        False   \n",
      "13      True            0      0.000000        False        False   \n",
      "14      True            0      0.000000        False        False   \n",
      "15      True            0      0.000000        False        False   \n",
      "16      True            0      0.000000        False        False   \n",
      "17      True            0      0.000000        False        False   \n",
      "18      True            0      0.000000        False        False   \n",
      "19     False      1102041     18.486217        False        False   \n",
      "80      True            0      0.000000        False        False   \n",
      "81      True            0      0.000000        False        False   \n",
      "82     False     23774985    -84.773460        False        False   \n",
      "83     False     37704588    -10.993934        False        False   \n",
      "84     False     89295401     44.898937        False        False   \n",
      "85      True     84287420  -1701.838100        False        False   \n",
      "86      True            0      0.000000        False        False   \n",
      "87      True     77440780     53.528374        False         True   \n",
      "88     False  10129967714 -37111.780000        False        False   \n",
      "89     False     37526621     -0.889276        False        False   \n",
      "...      ...          ...           ...          ...          ...   \n",
      "7090    True      1304947     11.414157        False         True   \n",
      "7091    True      1351282      3.208502        False         True   \n",
      "7092    True            0      0.000000        False        False   \n",
      "7093    True            0      0.000000        False        False   \n",
      "7094    True      1418375    -12.363240        False        False   \n",
      "7095    True            0      0.000000        False        False   \n",
      "7096    True            0      0.000000        False        False   \n",
      "7097    True            0      0.000000        False        False   \n",
      "7098    True            0      0.000000        False        False   \n",
      "7099    True            0      0.000000        False        False   \n",
      "7160    True            0      0.000000        False        False   \n",
      "7161    True            0      0.000000        False        False   \n",
      "7162    True            0      0.000000        False        False   \n",
      "7163    True            0      0.000000        False        False   \n",
      "7164    True            0      0.000000        False        False   \n",
      "7165    True      1401441     -3.367288        False         True   \n",
      "7166    True            0      0.000000        False        False   \n",
      "7167    True            0      0.000000        False        False   \n",
      "7168    True            0      0.000000        False        False   \n",
      "7169    True            0      0.000000        False        False   \n",
      "7170    True            0      0.000000        False        False   \n",
      "7171    True            0      0.000000        False        False   \n",
      "7172    True            0      0.000000        False        False   \n",
      "7173    True            0      0.000000        False        False   \n",
      "7174    True            0      0.000000        False        False   \n",
      "7175    True            0      0.000000        False        False   \n",
      "7176    True            0      0.000000        False        False   \n",
      "7177    True            0      0.000000        False        False   \n",
      "7178    True            0      0.000000        False        False   \n",
      "7179    True            0      0.000000        False        False   \n",
      "\n",
      "      AVG_coverage  \n",
      "0            97.00  \n",
      "1            97.00  \n",
      "2            97.00  \n",
      "3            97.00  \n",
      "4            97.00  \n",
      "5            97.00  \n",
      "6            97.00  \n",
      "7            97.00  \n",
      "8            97.00  \n",
      "9            97.00  \n",
      "10           97.00  \n",
      "11           97.00  \n",
      "12           97.00  \n",
      "13           97.00  \n",
      "14           97.00  \n",
      "15           97.00  \n",
      "16           97.00  \n",
      "17           97.00  \n",
      "18           97.00  \n",
      "19           97.00  \n",
      "80           99.00  \n",
      "81           99.00  \n",
      "82           99.00  \n",
      "83           99.00  \n",
      "84           99.00  \n",
      "85           99.00  \n",
      "86           99.00  \n",
      "87           99.00  \n",
      "88           99.00  \n",
      "89           99.00  \n",
      "...            ...  \n",
      "7090         85.25  \n",
      "7091         85.25  \n",
      "7092         85.25  \n",
      "7093         85.25  \n",
      "7094         85.25  \n",
      "7095         85.25  \n",
      "7096         85.25  \n",
      "7097         85.25  \n",
      "7098         85.25  \n",
      "7099         85.25  \n",
      "7160         83.75  \n",
      "7161         83.75  \n",
      "7162         83.75  \n",
      "7163         83.75  \n",
      "7164         83.75  \n",
      "7165         83.75  \n",
      "7166         83.75  \n",
      "7167         83.75  \n",
      "7168         83.75  \n",
      "7169         83.75  \n",
      "7170         83.75  \n",
      "7171         83.75  \n",
      "7172         83.75  \n",
      "7173         83.75  \n",
      "7174         83.75  \n",
      "7175         83.75  \n",
      "7176         83.75  \n",
      "7177         83.75  \n",
      "7178         83.75  \n",
      "7179         83.75  \n",
      "\n",
      "[1760 rows x 22 columns]\n"
     ]
    }
   ],
   "source": [
    "#create subset of dataframes which only contains original tests generated by evoSuite (100% sampled)\n",
    "auto_df = full_df[full_df[\"criterion\"] != \"MANUAL\"]\n",
    "#fulltest_df = auto_df[auto_df[\"index\"] % 4 == 1] # For old dataset before sampled column created\n",
    "fulltest_df = auto_df[auto_df[\"sampled\"] == False]\n",
    "fulltest_intermediate_df = full_intermediate_df[full_intermediate_df[\"sampled\"]==False]\n",
    "print(fulltest_df)"
   ]
  },
  {
   "cell_type": "code",
   "execution_count": 90,
   "metadata": {},
   "outputs": [
    {
     "data": {
      "text/plain": [
       "0         BRANCH\n",
       "1         BRANCH\n",
       "4         BRANCH\n",
       "5         BRANCH\n",
       "6         BRANCH\n",
       "7         BRANCH\n",
       "8         BRANCH\n",
       "16        BRANCH\n",
       "17        BRANCH\n",
       "18        BRANCH\n",
       "23        BRANCH\n",
       "24        BRANCH\n",
       "27        BRANCH\n",
       "34        BRANCH\n",
       "35        BRANCH\n",
       "37        BRANCH\n",
       "56        BRANCH\n",
       "57        BRANCH\n",
       "60        BRANCH\n",
       "61        BRANCH\n",
       "64        BRANCH\n",
       "65        BRANCH\n",
       "67        BRANCH\n",
       "108       BRANCH\n",
       "109       BRANCH\n",
       "111       BRANCH\n",
       "156       BRANCH\n",
       "157       BRANCH\n",
       "158       BRANCH\n",
       "198       BRANCH\n",
       "          ...   \n",
       "28226    CBRANCH\n",
       "28227    CBRANCH\n",
       "28237    CBRANCH\n",
       "28270    CBRANCH\n",
       "28271    CBRANCH\n",
       "28292    CBRANCH\n",
       "28317    CBRANCH\n",
       "28318    CBRANCH\n",
       "28320    CBRANCH\n",
       "28354    CBRANCH\n",
       "28355    CBRANCH\n",
       "28362    CBRANCH\n",
       "28394    CBRANCH\n",
       "28395    CBRANCH\n",
       "28400    CBRANCH\n",
       "28436    CBRANCH\n",
       "28437    CBRANCH\n",
       "28445    CBRANCH\n",
       "28470    CBRANCH\n",
       "28471    CBRANCH\n",
       "28479    CBRANCH\n",
       "28511    CBRANCH\n",
       "28512    CBRANCH\n",
       "28513    CBRANCH\n",
       "28553    CBRANCH\n",
       "28554    CBRANCH\n",
       "28575    CBRANCH\n",
       "28600    CBRANCH\n",
       "28601    CBRANCH\n",
       "28603    CBRANCH\n",
       "Name: criterion, Length: 7031, dtype: object"
      ]
     },
     "execution_count": 90,
     "metadata": {},
     "output_type": "execute_result"
    }
   ],
   "source": [
    "\n",
    "fulltest_intermediate_df[\"criterion\"]"
   ]
  },
  {
   "cell_type": "markdown",
   "metadata": {},
   "source": [
    "## Research Question 1: How does each coverage metric affect the correctness of generated patches?"
   ]
  },
  {
   "cell_type": "raw",
   "metadata": {},
   "source": [
    "totalCorrect = len(fulltest_df.loc[(fulltest_df[\"correctness\"]==True)].index)\n",
    "totalWrong = len(fulltest_df.loc[(fulltest_df[\"correctness\"]==False)].index)\n",
    "print(totalCorrect)\n",
    "print(totalWrong)"
   ]
  },
  {
   "cell_type": "raw",
   "metadata": {},
   "source": [
    "criterionList = [\"BRANCH\", \"LINE\",\"WEAKMUTATION\", \"CBRANCH\"]\n",
    "correctdict = dict()\n",
    "correctdict[\"TOTAL\"] = (totalCorrect, totalWrong)\n",
    "for crit in criterionList:\n",
    "    correct = len(fulltest_df.loc[(fulltest_df[\"correctness\"]==True) & (fulltest_df[\"criterion\"] == crit)].index)\n",
    "    wrong = len(fulltest_df.loc[(fulltest_df[\"correctness\"]==False) & (fulltest_df[\"criterion\"] == crit)].index)\n",
    "    correctdict[crit] = (correct, wrong)\n",
    "print(correctdict)"
   ]
  },
  {
   "cell_type": "raw",
   "metadata": {},
   "source": [
    "#Plot bar graph using above data\n",
    "fig, ax = plt.subplots()\n",
    "n_groups = 5\n",
    "bar_spacing = 1.5\n",
    "index = np.arange(n_groups * bar_spacing, step=bar_spacing)\n",
    "bar_width = 0.5\n",
    "opacity = 0.8\n",
    "\n",
    "correctbars = ax.bar(index, [x[0] for x in list(correctdict.values())], bar_width, alpha=opacity, \\\n",
    "                      color='g', label=\"Correct Patches\")\n",
    "wrongbars = ax.bar(index + bar_width, [x[1] for x in list(correctdict.values())], bar_width, alpha=opacity, \\\n",
    "                   color='b', label=\"Incorrect Patches\")\n",
    "\n",
    "plt.xticks((index + bar_width / 2), correctdict.keys(), fontsize='medium')\n",
    "#ax.set_yticks(np.arange(0, 100, 10), minor=True)\n",
    "ax.grid(b=True, which='minor', color='w', linewidth=1.0)\n",
    "ax.legend()\n",
    "\n",
    "plt.ylabel(\"Number of patches\")\n",
    "plt.xlabel(\"Criterion\")\n",
    "plt.tight_layout()\n",
    "\n",
    "fig.savefig(\"q1BarCorrectness.pgf\")"
   ]
  },
  {
   "cell_type": "raw",
   "metadata": {},
   "source": [
    "fig, ax = plt.subplots()\n",
    "n_groups = 5\n",
    "bar_spacing = 1.5\n",
    "index = np.arange(n_groups * bar_spacing, step=bar_spacing)\n",
    "bar_width = 0.5\n",
    "opacity = 0.8\n",
    "\n",
    "propbars = ax.bar(index, [x[0]/(x[0] + x[1]) for x in list(correctdict.values())], bar_width, alpha=opacity,color='g')\n",
    "                      \n",
    "\n",
    "plt.xticks((index), correctdict.keys(), fontsize='medium')\n",
    "#ax.set_yticks(np.arange(0, 100, 10), minor=True)\n",
    "ax.grid(b=True, which='minor', color='w', linewidth=1.0)\n",
    "ax.legend()\n",
    "\n",
    "plt.ylabel(\"Proportion of Correct of Patches\")\n",
    "plt.xlabel(\"Criterion\")\n",
    "plt.tight_layout()\n",
    "\n",
    "fig.savefig(\"q1BarCorrectnessProportion.pgf\")"
   ]
  },
  {
   "cell_type": "raw",
   "metadata": {},
   "source": [
    "#Data for Scatterplots - This series of scatterplots requires correctness as BOTH having a patch and it being correct\n",
    "scatterplotCorrectDict = dict()\n",
    "fig, ((ax0, ax1), (ax2, ax3)) = plt.subplots(2,2)\n",
    "fig.set_figheight(15)\n",
    "fig.set_figwidth(15)\n",
    "axes = [ax0, ax1, ax2, ax3]\n",
    "for index in range(len(criterionList)):\n",
    "    ax = axes[index]\n",
    "    colname = criterionList[index] + \"_Coverage\"\n",
    "    x_vals = auto_df[colname]\n",
    "    y_vals = auto_df[\"correctness\"]\n",
    "    m, c = np.polyfit(x_vals, y_vals, 1)\n",
    "    print(m)\n",
    "    print(c)\n",
    "    ax.scatter(x_vals, y_vals)\n",
    "    ax.plot(x_vals, m * x_vals + c)\n",
    "    ax.set_xlabel(colname)\n",
    "    ax.set_ylabel(\"Corretness\")\n",
    "fig.savefig(\"q1ScatterCorrectness.pgf\")"
   ]
  },
  {
   "cell_type": "code",
   "execution_count": 91,
   "metadata": {},
   "outputs": [
    {
     "name": "stdout",
     "output_type": "stream",
     "text": [
      "1760\n",
      "381\n",
      "0.14270833333333333\n"
     ]
    }
   ],
   "source": [
    "#Now, we try the case where only patches which are generated are considered\n",
    "valid_df = auto_df.loc[(auto_df['validpatch'] == True)]\n",
    "#valid_fulltest_df= valid_df.loc[(valid_df[\"Index\"] % 4 == 1)] for old dataset\n",
    "valid_fulltest_df= valid_df.loc[(valid_df[\"sampled\"] == False)]\n",
    "valid_intermediate_fulltest_df = fulltest_intermediate_df.loc[(fulltest_intermediate_df['validpatch']==True)]\n",
    "\n",
    "print(len(fulltest_df.index))\n",
    "print(len(valid_fulltest_df.index))\n",
    "\n",
    "print(137/960)"
   ]
  },
  {
   "cell_type": "code",
   "execution_count": 92,
   "metadata": {},
   "outputs": [
    {
     "name": "stdout",
     "output_type": "stream",
     "text": [
      "98\n",
      "283\n"
     ]
    }
   ],
   "source": [
    "totalCorrect = len(valid_fulltest_df.loc[(valid_fulltest_df[\"correctness\"]==True)].index)\n",
    "totalWrong = len(valid_fulltest_df.loc[(valid_fulltest_df[\"correctness\"]==False)].index)\n",
    "print(totalCorrect)\n",
    "print(totalWrong)"
   ]
  },
  {
   "cell_type": "code",
   "execution_count": 93,
   "metadata": {},
   "outputs": [
    {
     "name": "stdout",
     "output_type": "stream",
     "text": [
      "{'TOTAL': (98, 283), 'BRANCH': (31, 66), 'LINE': (20, 75), 'WEAKMUTATION': (20, 68), 'CBRANCH': (27, 74)}\n"
     ]
    }
   ],
   "source": [
    "criterionList = [\"BRANCH\", \"LINE\",\"WEAKMUTATION\", \"CBRANCH\"]\n",
    "correctdict = dict()\n",
    "correctdict[\"TOTAL\"] = (totalCorrect, totalWrong)\n",
    "for crit in criterionList:\n",
    "    correct = len(valid_fulltest_df.loc[(valid_fulltest_df[\"correctness\"]==True) & (valid_fulltest_df[\"criterion\"] == crit)].index)\n",
    "    wrong = len(valid_fulltest_df.loc[(valid_fulltest_df[\"correctness\"]==False) & (valid_fulltest_df[\"criterion\"] == crit)].index)\n",
    "    correctdict[crit] = (correct, wrong)\n",
    "print(correctdict)"
   ]
  },
  {
   "cell_type": "code",
   "execution_count": 94,
   "metadata": {},
   "outputs": [
    {
     "name": "stdout",
     "output_type": "stream",
     "text": [
      "rowlabels     valid  non-overfitting  overfitting  successrate\n",
      "TOTAL           381               98          283     0.257218\n",
      "BRANCH           97               31           66     0.319588\n",
      "LINE             95               20           75     0.210526\n",
      "WEAKMUTATION     88               20           68     0.227273\n",
      "CBRANCH         101               27           74     0.267327\n"
     ]
    }
   ],
   "source": [
    "criterionoverfitting_df = pd.DataFrame(correctdict)\n",
    "validrowdict = {x : correctdict[x][0] + correctdict[x][1] for x in correctdict}\n",
    "criterionoverfitting_df = criterionoverfitting_df.append(validrowdict, ignore_index=True)\n",
    "criterionoverfitting_df[\"rowlabels\"] = [\"non-overfitting\", \"overfitting\", \"valid\"]\n",
    "criterionoverfitting_df = criterionoverfitting_df.set_index(\"rowlabels\")\n",
    "criterionoverfitting_df = criterionoverfitting_df.transpose()\n",
    "criterionoverfitting_df[\"successrate\"] = criterionoverfitting_df[\"non-overfitting\"] /criterionoverfitting_df[\"valid\"]\n",
    "\n",
    "columnorder = [\"valid\", \"non-overfitting\", \"overfitting\", \"successrate\"]\n",
    "criterionoverfitting_df = criterionoverfitting_df.reindex(columns = columnorder)\n",
    "print(criterionoverfitting_df)"
   ]
  },
  {
   "cell_type": "code",
   "execution_count": 95,
   "metadata": {},
   "outputs": [
    {
     "name": "stdout",
     "output_type": "stream",
     "text": [
      "{'TOTAL': (98, 283), 'BRANCH': (31, 66), 'LINE': (20, 75), 'WEAKMUTATION': (20, 68), 'CBRANCH': (27, 74)}\n"
     ]
    },
    {
     "data": {
      "image/png": "[encoded data removed]",
      "text/plain": [
       "<Figure size 360x216 with 1 Axes>"
      ]
     },
     "metadata": {},
     "output_type": "display_data"
    }
   ],
   "source": [
    "#Plot bar graph using above data\n",
    "fig, ax = plt.subplots()\n",
    "n_groups = 4\n",
    "bar_spacing = 1.5\n",
    "index = np.arange(n_groups * bar_spacing, step=bar_spacing)\n",
    "bar_width = 0.5\n",
    "opacity = 0.8\n",
    "\n",
    "correctbars = ax.bar(index, [x[0] for x in list(correctdict.values()) if correctdict[\"TOTAL\"] is not x], bar_width, alpha=opacity, \\\n",
    "                      color='g', label=\"Non-overfitting patches\")\n",
    "wrongbars = ax.bar(index + bar_width, [x[1] for x in list(correctdict.values()) if correctdict[\"TOTAL\"] is not x], bar_width, alpha=opacity, \\\n",
    "                   color='b', label=\"Overfitting patches\")\n",
    "\n",
    "plt.xticks((index + bar_width / 2), [label for label in list(correctdict.keys()) if label is not \"TOTAL\"], fontsize='medium')\n",
    "#ax.set_yticks(np.arange(0, 100, 10), minor=True)\n",
    "ax.grid(b=True, which='minor', color='w', linewidth=1.0)\n",
    "ax.legend(fontsize=9)\n",
    "\n",
    "fig.set_size_inches(5,3)\n",
    "plt.ylabel(\"Number of patches\", fontsize=12)\n",
    "plt.xlabel(\"Test suite generation criterion\", fontsize=12)\n",
    "plt.tight_layout()\n",
    "print(correctdict)\n",
    "fig.savefig(\"q1BarValidCorrectness.pgf\")"
   ]
  },
  {
   "cell_type": "code",
   "execution_count": 96,
   "metadata": {},
   "outputs": [
    {
     "data": {
      "image/png": "[encoded data removed]",
      "text/plain": [
       "<Figure size 360x216 with 1 Axes>"
      ]
     },
     "metadata": {},
     "output_type": "display_data"
    }
   ],
   "source": [
    "fig, ax = plt.subplots()\n",
    "n_groups = 5\n",
    "bar_spacing = 1.5\n",
    "index = np.arange(n_groups * bar_spacing, step=bar_spacing)\n",
    "bar_width = 0.5\n",
    "opacity = 0.8\n",
    "\n",
    "propbars = ax.bar(index, [x for x in list(criterionoverfitting_df[\"successrate\"])], bar_width, alpha=opacity,color='g')\n",
    "                      \n",
    "\n",
    "plt.xticks((index), correctdict.keys(), fontsize='small')\n",
    "#ax.set_yticks(np.arange(0, 100, 10), minor=True)\n",
    "ax.grid(b=True, which='minor', color='w', linewidth=1.0)\n",
    "\n",
    "plt.ylabel(\"Proportion of Non-Overfitting Patches\", fontsize=11)\n",
    "plt.xlabel(\"Test Generation Criterion\", fontsize=12)\n",
    "plt.tight_layout()\n",
    "fig.set_size_inches(5,3)\n",
    "\n",
    "fig.savefig(\"q1BarValidCorrectnessProportion.pgf\")"
   ]
  },
  {
   "cell_type": "code",
   "execution_count": 34,
   "metadata": {
    "scrolled": true
   },
   "outputs": [
    {
     "name": "stdout",
     "output_type": "stream",
     "text": [
      "{'BRANCH': 0.0007205920348114555, 'LINE': 0.0008217172866022114, 'WEAKMUTATION': 0.0005132699625675149, 'CBRANCH': -0.0006356956036523521}\n"
     ]
    },
    {
     "data": {
      "image/png": "[encoded data removed]",
      "text/plain": [
       "<Figure size 720x720 with 4 Axes>"
      ]
     },
     "metadata": {},
     "output_type": "display_data"
    }
   ],
   "source": [
    "#Data for Scatterplots - This series of scatterplots requires correctness as BOTH having a patch and it being correct\n",
    "scatterplotGradientList = []\n",
    "fig, ((ax0, ax1), (ax2, ax3)) = plt.subplots(2,2)\n",
    "fig.set_size_inches(10, 10)\n",
    "axes = [ax0, ax1, ax2, ax3]\n",
    "for index in range(len(criterionList)):\n",
    "    ax = axes[index]\n",
    "    colname = criterionList[index] + \"_Coverage\"\n",
    "    x_vals = valid_df[colname]\n",
    "    y_vals = valid_df[\"correctness\"]\n",
    "    m, c = np.polyfit(x_vals, y_vals, 1)\n",
    "    scatterplotGradientList.append(m)\n",
    "    ax.scatter(x_vals, y_vals)\n",
    "    ax.plot(x_vals, m * x_vals + c)\n",
    "    ax.set_xlabel(colname, fontsize = 13)\n",
    "    ax.set_ylabel(\"Non-Overfitting Rate\", fontsize = 13)\n",
    "    ax.tick_params(labelsize=11)\n",
    "scatterplotGradientDict = {criterionList[x] : scatterplotGradientList[x] for x in range(len(criterionList))}\n",
    "print(scatterplotGradientDict)\n",
    "#fig.savefig(\"q1ScatterValidCorrectness.pgf\")\n",
    "fig.savefig(\"q1ScatterValidCorrectness.png\")\n",
    "plt.show()"
   ]
  },
  {
   "cell_type": "code",
   "execution_count": 62,
   "metadata": {},
   "outputs": [
    {
     "name": "stdout",
     "output_type": "stream",
     "text": [
      "                            OLS Regression Results                            \n",
      "==============================================================================\n",
      "Dep. Variable:        BRANCH_Coverage   R-squared:                       0.002\n",
      "Model:                            OLS   Adj. R-squared:                  0.002\n",
      "Method:                 Least Squares   F-statistic:                     3.881\n",
      "Date:                Tue, 05 May 2020   Prob (F-statistic):             0.0490\n",
      "Time:                        07:14:17   Log-Likelihood:                -8363.4\n",
      "No. Observations:                1733   AIC:                         1.673e+04\n",
      "Df Residuals:                    1731   BIC:                         1.674e+04\n",
      "Df Model:                           1                                         \n",
      "Covariance Type:            nonrobust                                         \n",
      "=======================================================================================\n",
      "                          coef    std err          t      P>|t|      [0.025      0.975]\n",
      "---------------------------------------------------------------------------------------\n",
      "Intercept              65.9187      0.870     75.789      0.000      64.213      67.625\n",
      "correctness[T.True]     3.1041      1.576      1.970      0.049       0.013       6.195\n",
      "==============================================================================\n",
      "Omnibus:                      281.330   Durbin-Watson:                   0.299\n",
      "Prob(Omnibus):                  0.000   Jarque-Bera (JB):              234.687\n",
      "Skew:                          -0.812   Prob(JB):                     1.09e-51\n",
      "Kurtosis:                       2.219   Cond. No.                         2.42\n",
      "==============================================================================\n",
      "\n",
      "Warnings:\n",
      "[1] Standard Errors assume that the covariance matrix of the errors is correctly specified.                             OLS Regression Results                            \n",
      "==============================================================================\n",
      "Dep. Variable:          LINE_Coverage   R-squared:                       0.003\n",
      "Model:                            OLS   Adj. R-squared:                  0.003\n",
      "Method:                 Least Squares   F-statistic:                     5.496\n",
      "Date:                Tue, 05 May 2020   Prob (F-statistic):             0.0192\n",
      "Time:                        07:14:17   Log-Likelihood:                -8435.7\n",
      "No. Observations:                1733   AIC:                         1.688e+04\n",
      "Df Residuals:                    1731   BIC:                         1.689e+04\n",
      "Df Model:                           1                                         \n",
      "Covariance Type:            nonrobust                                         \n",
      "=======================================================================================\n",
      "                          coef    std err          t      P>|t|      [0.025      0.975]\n",
      "---------------------------------------------------------------------------------------\n",
      "Intercept              70.3494      0.907     77.577      0.000      68.571      72.128\n",
      "correctness[T.True]     3.8514      1.643      2.344      0.019       0.629       7.074\n",
      "==============================================================================\n",
      "Omnibus:                      232.491   Durbin-Watson:                   0.280\n",
      "Prob(Omnibus):                  0.000   Jarque-Bera (JB):              293.000\n",
      "Skew:                          -0.975   Prob(JB):                     2.38e-64\n",
      "Kurtosis:                       2.497   Cond. No.                         2.42\n",
      "==============================================================================\n",
      "\n",
      "Warnings:\n",
      "[1] Standard Errors assume that the covariance matrix of the errors is correctly specified.                               OLS Regression Results                             \n",
      "=================================================================================\n",
      "Dep. Variable:     WEAKMUTATION_Coverage   R-squared:                       0.002\n",
      "Model:                               OLS   Adj. R-squared:                  0.001\n",
      "Method:                    Least Squares   F-statistic:                     2.920\n",
      "Date:                   Tue, 05 May 2020   Prob (F-statistic):             0.0877\n",
      "Time:                           07:14:17   Log-Likelihood:                -8705.7\n",
      "No. Observations:                   1733   AIC:                         1.742e+04\n",
      "Df Residuals:                       1731   BIC:                         1.743e+04\n",
      "Df Model:                              1                                         \n",
      "Covariance Type:               nonrobust                                         \n",
      "=======================================================================================\n",
      "                          coef    std err          t      P>|t|      [0.025      0.975]\n",
      "---------------------------------------------------------------------------------------\n",
      "Intercept              66.3975      1.060     62.654      0.000      64.319      68.476\n",
      "correctness[T.True]     3.2805      1.920      1.709      0.088      -0.485       7.046\n",
      "==============================================================================\n",
      "Omnibus:                      305.671   Durbin-Watson:                   0.232\n",
      "Prob(Omnibus):                  0.000   Jarque-Bera (JB):              286.582\n",
      "Skew:                          -0.919   Prob(JB):                     5.88e-63\n",
      "Kurtosis:                       2.232   Cond. No.                         2.42\n",
      "==============================================================================\n",
      "\n",
      "Warnings:\n",
      "[1] Standard Errors assume that the covariance matrix of the errors is correctly specified.                             OLS Regression Results                            \n",
      "==============================================================================\n",
      "Dep. Variable:       CBRANCH_Coverage   R-squared:                       0.002\n",
      "Model:                            OLS   Adj. R-squared:                  0.001\n",
      "Method:                 Least Squares   F-statistic:                     3.285\n",
      "Date:                Tue, 05 May 2020   Prob (F-statistic):             0.0701\n",
      "Time:                        07:14:17   Log-Likelihood:                -8437.0\n",
      "No. Observations:                1733   AIC:                         1.688e+04\n",
      "Df Residuals:                    1731   BIC:                         1.689e+04\n",
      "Df Model:                           1                                         \n",
      "Covariance Type:            nonrobust                                         \n",
      "=======================================================================================\n",
      "                          coef    std err          t      P>|t|      [0.025      0.975]\n",
      "---------------------------------------------------------------------------------------\n",
      "Intercept              64.5577      0.907     71.139      0.000      62.778      66.338\n",
      "correctness[T.True]    -2.9800      1.644     -1.813      0.070      -6.205       0.245\n",
      "==============================================================================\n",
      "Omnibus:                      667.009   Durbin-Watson:                   0.257\n",
      "Prob(Omnibus):                  0.000   Jarque-Bera (JB):              208.232\n",
      "Skew:                          -0.659   Prob(JB):                     6.07e-46\n",
      "Kurtosis:                       1.930   Cond. No.                         2.42\n",
      "==============================================================================\n",
      "\n",
      "Warnings:\n",
      "[1] Standard Errors assume that the covariance matrix of the errors is correctly specified.\n"
     ]
    }
   ],
   "source": [
    "branch_model = smf.ols('BRANCH_Coverage ~ correctness', data=valid_df[[\"BRANCH_Coverage\", \"correctness\"]]).fit()\n",
    "line_model = smf.ols('LINE_Coverage ~ correctness', data=valid_df[[\"LINE_Coverage\", \"correctness\"]]).fit()\n",
    "weakmutation_model = smf.ols('WEAKMUTATION_Coverage ~ correctness', data=valid_df[[\"WEAKMUTATION_Coverage\", \"correctness\"]]).fit()\n",
    "cbranch_model = smf.ols('CBRANCH_Coverage ~ correctness', data=valid_df[[\"CBRANCH_Coverage\", \"correctness\"]]).fit()\n",
    "print(branch_model.summary(), line_model.summary(), weakmutation_model.summary(), cbranch_model.summary())"
   ]
  },
  {
   "cell_type": "markdown",
   "metadata": {},
   "source": [
    "### Small analysis of the difference in branch coverage and cbranch coverage and where they differ"
   ]
  },
  {
   "cell_type": "code",
   "execution_count": 63,
   "metadata": {},
   "outputs": [
    {
     "name": "stdout",
     "output_type": "stream",
     "text": [
      "164\n"
     ]
    },
    {
     "data": {
      "image/png": "[encoded data removed]",
      "text/plain": [
       "<Figure size 720x360 with 2 Axes>"
      ]
     },
     "metadata": {},
     "output_type": "display_data"
    }
   ],
   "source": [
    "cbranch_diff_df = valid_df[valid_df[\"BRANCH_Coverage\"] > valid_df[\"CBRANCH_Coverage\"]]\n",
    "trunc_criterionList = [\"BRANCH\", \"CBRANCH\"]\n",
    "fig, ((ax0, ax1)) = plt.subplots(1,2)\n",
    "fig.set_figheight(5)\n",
    "fig.set_figwidth(10)\n",
    "axes = [ax0, ax1]\n",
    "for index in range(2):\n",
    "    ax = axes[index]\n",
    "    colname = trunc_criterionList[index] + \"_Coverage\"\n",
    "    x_vals = cbranch_diff_df[colname]\n",
    "    y_vals = cbranch_diff_df[\"correctness\"]\n",
    "    m, c = np.polyfit(x_vals, y_vals, 1)\n",
    "    ax.scatter(x_vals, y_vals)\n",
    "    ax.plot(x_vals, m * x_vals + c)\n",
    "    ax.set_xlabel(colname, fontsize=13)\n",
    "    ax.set_ylabel(\"Non-Overfitting Rate\", fontsize=13)\n",
    "    ax.tick_params(labelsize=11)\n",
    "print(len(cbranch_diff_df.index))\n",
    "fig.savefig(\"q1ScatterValidCorrectnessBranchCBranch.png\")"
   ]
  },
  {
   "cell_type": "code",
   "execution_count": 103,
   "metadata": {},
   "outputs": [
    {
     "name": "stdout",
     "output_type": "stream",
     "text": [
      "Intercept              3.431176e-61\n",
      "correctness[T.True]    2.509121e-05\n",
      "dtype: float64\n",
      "                            OLS Regression Results                            \n",
      "==============================================================================\n",
      "Dep. Variable:        BRANCH_Coverage   R-squared:                       0.104\n",
      "Model:                            OLS   Adj. R-squared:                  0.099\n",
      "Method:                 Least Squares   F-statistic:                     18.83\n",
      "Date:                Tue, 05 May 2020   Prob (F-statistic):           2.51e-05\n",
      "Time:                        17:37:33   Log-Likelihood:                -715.11\n",
      "No. Observations:                 164   AIC:                             1434.\n",
      "Df Residuals:                     162   BIC:                             1440.\n",
      "Df Model:                           1                                         \n",
      "Covariance Type:            nonrobust                                         \n",
      "=======================================================================================\n",
      "                          coef    std err          t      P>|t|      [0.025      0.975]\n",
      "---------------------------------------------------------------------------------------\n",
      "Intercept              67.9821      2.547     26.690      0.000      62.952      73.012\n",
      "correctness[T.True]    13.6197      3.139      4.339      0.000       7.421      19.818\n",
      "==============================================================================\n",
      "Omnibus:                       43.995   Durbin-Watson:                   0.646\n",
      "Prob(Omnibus):                  0.000   Jarque-Bera (JB):               76.058\n",
      "Skew:                          -1.327   Prob(JB):                     3.05e-17\n",
      "Kurtosis:                       5.023   Cond. No.                         3.18\n",
      "==============================================================================\n",
      "\n",
      "Warnings:\n",
      "[1] Standard Errors assume that the covariance matrix of the errors is correctly specified.                             OLS Regression Results                            \n",
      "==============================================================================\n",
      "Dep. Variable:       CBRANCH_Coverage   R-squared:                       0.011\n",
      "Model:                            OLS   Adj. R-squared:                  0.005\n",
      "Method:                 Least Squares   F-statistic:                     1.748\n",
      "Date:                Tue, 05 May 2020   Prob (F-statistic):              0.188\n",
      "Time:                        17:37:33   Log-Likelihood:                -788.91\n",
      "No. Observations:                 164   AIC:                             1582.\n",
      "Df Residuals:                     162   BIC:                             1588.\n",
      "Df Model:                           1                                         \n",
      "Covariance Type:            nonrobust                                         \n",
      "=======================================================================================\n",
      "                          coef    std err          t      P>|t|      [0.025      0.975]\n",
      "---------------------------------------------------------------------------------------\n",
      "Intercept              38.6964      3.995      9.687      0.000      30.808      46.585\n",
      "correctness[T.True]     6.5073      4.923      1.322      0.188      -3.213      16.228\n",
      "==============================================================================\n",
      "Omnibus:                     1287.191   Durbin-Watson:                   0.140\n",
      "Prob(Omnibus):                  0.000   Jarque-Bera (JB):               21.781\n",
      "Skew:                          -0.155   Prob(JB):                     1.86e-05\n",
      "Kurtosis:                       1.242   Cond. No.                         3.18\n",
      "==============================================================================\n",
      "\n",
      "Warnings:\n",
      "[1] Standard Errors assume that the covariance matrix of the errors is correctly specified.\n"
     ]
    }
   ],
   "source": [
    "branch_diff_model = smf.ols('BRANCH_Coverage ~ correctness', data=cbranch_diff_df[[\"BRANCH_Coverage\", \"correctness\"]]).fit()\n",
    "cbranch_diff_model = smf.ols('CBRANCH_Coverage ~ correctness', data=cbranch_diff_df[[\"CBRANCH_Coverage\", \"correctness\"]]).fit()\n",
    "\n",
    "print(branch_diff_model.pvalues)\n",
    "print(branch_diff_model.summary(),cbranch_diff_model.summary())\n",
    "\n"
   ]
  },
  {
   "cell_type": "markdown",
   "metadata": {},
   "source": [
    "## Analysis of intermediate patches"
   ]
  },
  {
   "cell_type": "code",
   "execution_count": 64,
   "metadata": {},
   "outputs": [
    {
     "name": "stdout",
     "output_type": "stream",
     "text": [
      "{'BRANCH': 0.0010927288429498933, 'LINE': 0.0010839363513544336, 'WEAKMUTATION': 0.0009604527481096173, 'CBRANCH': -0.00016795034459642178}\n"
     ]
    },
    {
     "data": {
      "image/png": "[encoded data removed]",
      "text/plain": [
       "<Figure size 720x720 with 4 Axes>"
      ]
     },
     "metadata": {},
     "output_type": "display_data"
    }
   ],
   "source": [
    "#Data for Scatterplots - This series of scatterplots requires correctness as BOTH having a patch and it being correct. \n",
    "#This set of graphs is for intermediate \n",
    "valid_intermediate_df = full_intermediate_df.loc[(full_intermediate_df['validpatch'] == True)]\n",
    "scatterplotIntermediateGradientList = []\n",
    "scatterplotCorrectDict = dict()\n",
    "fig, ((ax0, ax1), (ax2, ax3)) = plt.subplots(2,2)\n",
    "fig.set_figheight(10)\n",
    "fig.set_figwidth(10)\n",
    "axes = [ax0, ax1, ax2, ax3]\n",
    "for index in range(len(criterionList)):\n",
    "    ax = axes[index]\n",
    "    colname = criterionList[index] + \"_Coverage\"\n",
    "    x_vals = valid_intermediate_df[colname]\n",
    "    y_vals = valid_intermediate_df[\"correctness\"]\n",
    "    m, c = np.polyfit(x_vals, y_vals, 1)\n",
    "    scatterplotIntermediateGradientList.append(m)\n",
    "    ax.scatter(x_vals, y_vals)\n",
    "    ax.plot(x_vals, m * x_vals + c)\n",
    "    ax.set_xlabel(colname, fontsize=13)\n",
    "    ax.set_ylabel(\"Non-Overfitting Rate\", fontsize=13)\n",
    "    ax.tick_params(labelsize=11)\n",
    "scatterplotIntermediateGradientDict = {criterionList[x] : scatterplotIntermediateGradientList[x] for x in range(len(criterionList))}\n",
    "print(scatterplotIntermediateGradientDict)\n",
    "fig.savefig(\"q1ScatterIntermediateValidCorrectness.png\")"
   ]
  },
  {
   "cell_type": "code",
   "execution_count": 106,
   "metadata": {},
   "outputs": [
    {
     "name": "stdout",
     "output_type": "stream",
     "text": [
      "29407\n",
      "23920\n",
      "                            OLS Regression Results                            \n",
      "==============================================================================\n",
      "Dep. Variable:        BRANCH_Coverage   R-squared:                       0.005\n",
      "Model:                            OLS   Adj. R-squared:                  0.005\n",
      "Method:                 Least Squares   F-statistic:                     117.0\n",
      "Date:                Tue, 05 May 2020   Prob (F-statistic):           3.38e-27\n",
      "Time:                        17:41:46   Log-Likelihood:            -1.1656e+05\n",
      "No. Observations:               23920   AIC:                         2.331e+05\n",
      "Df Residuals:                   23918   BIC:                         2.331e+05\n",
      "Df Model:                           1                                         \n",
      "Covariance Type:            nonrobust                                         \n",
      "=======================================================================================\n",
      "                          coef    std err          t      P>|t|      [0.025      0.975]\n",
      "---------------------------------------------------------------------------------------\n",
      "Intercept              59.8904      0.308    194.632      0.000      59.287      60.494\n",
      "correctness[T.True]     4.4534      0.412     10.815      0.000       3.646       5.261\n",
      "==============================================================================\n",
      "Omnibus:                    19089.162   Durbin-Watson:                   0.031\n",
      "Prob(Omnibus):                  0.000   Jarque-Bera (JB):             2597.164\n",
      "Skew:                          -0.549   Prob(JB):                         0.00\n",
      "Kurtosis:                       1.818   Cond. No.                         2.78\n",
      "==============================================================================\n",
      "\n",
      "Warnings:\n",
      "[1] Standard Errors assume that the covariance matrix of the errors is correctly specified.                             OLS Regression Results                            \n",
      "==============================================================================\n",
      "Dep. Variable:          LINE_Coverage   R-squared:                       0.005\n",
      "Model:                            OLS   Adj. R-squared:                  0.005\n",
      "Method:                 Least Squares   F-statistic:                     127.2\n",
      "Date:                Tue, 05 May 2020   Prob (F-statistic):           2.01e-29\n",
      "Time:                        17:41:46   Log-Likelihood:            -1.1774e+05\n",
      "No. Observations:               23920   AIC:                         2.355e+05\n",
      "Df Residuals:                   23918   BIC:                         2.355e+05\n",
      "Df Model:                           1                                         \n",
      "Covariance Type:            nonrobust                                         \n",
      "=======================================================================================\n",
      "                          coef    std err          t      P>|t|      [0.025      0.975]\n",
      "---------------------------------------------------------------------------------------\n",
      "Intercept              63.4510      0.323    196.236      0.000      62.817      64.085\n",
      "correctness[T.True]     4.8798      0.433     11.278      0.000       4.032       5.728\n",
      "==============================================================================\n",
      "Omnibus:                     7843.367   Durbin-Watson:                   0.030\n",
      "Prob(Omnibus):                  0.000   Jarque-Bera (JB):             2938.081\n",
      "Skew:                          -0.689   Prob(JB):                         0.00\n",
      "Kurtosis:                       1.975   Cond. No.                         2.78\n",
      "==============================================================================\n",
      "\n",
      "Warnings:\n",
      "[1] Standard Errors assume that the covariance matrix of the errors is correctly specified.                               OLS Regression Results                             \n",
      "=================================================================================\n",
      "Dep. Variable:     WEAKMUTATION_Coverage   R-squared:                       0.006\n",
      "Model:                               OLS   Adj. R-squared:                  0.005\n",
      "Method:                    Least Squares   F-statistic:                     132.5\n",
      "Date:                   Tue, 05 May 2020   Prob (F-statistic):           1.44e-30\n",
      "Time:                           17:41:46   Log-Likelihood:            -1.2112e+05\n",
      "No. Observations:                  23920   AIC:                         2.422e+05\n",
      "Df Residuals:                      23918   BIC:                         2.423e+05\n",
      "Df Model:                              1                                         \n",
      "Covariance Type:               nonrobust                                         \n",
      "=======================================================================================\n",
      "                          coef    std err          t      P>|t|      [0.025      0.975]\n",
      "---------------------------------------------------------------------------------------\n",
      "Intercept              56.9186      0.372    152.881      0.000      56.189      57.648\n",
      "correctness[T.True]     5.7340      0.498     11.509      0.000       4.757       6.711\n",
      "==============================================================================\n",
      "Omnibus:                   133294.902   Durbin-Watson:                   0.028\n",
      "Prob(Omnibus):                  0.000   Jarque-Bera (JB):             3179.854\n",
      "Skew:                          -0.606   Prob(JB):                         0.00\n",
      "Kurtosis:                       1.688   Cond. No.                         2.78\n",
      "==============================================================================\n",
      "\n",
      "Warnings:\n",
      "[1] Standard Errors assume that the covariance matrix of the errors is correctly specified.                             OLS Regression Results                            \n",
      "==============================================================================\n",
      "Dep. Variable:       CBRANCH_Coverage   R-squared:                       0.000\n",
      "Model:                            OLS   Adj. R-squared:                  0.000\n",
      "Method:                 Least Squares   F-statistic:                     2.959\n",
      "Date:                Tue, 05 May 2020   Prob (F-statistic):             0.0854\n",
      "Time:                        17:41:46   Log-Likelihood:            -1.1749e+05\n",
      "No. Observations:               23920   AIC:                         2.350e+05\n",
      "Df Residuals:                   23918   BIC:                         2.350e+05\n",
      "Df Model:                           1                                         \n",
      "Covariance Type:            nonrobust                                         \n",
      "=======================================================================================\n",
      "                          coef    std err          t      P>|t|      [0.025      0.975]\n",
      "---------------------------------------------------------------------------------------\n",
      "Intercept              57.9029      0.320    180.983      0.000      57.276      58.530\n",
      "correctness[T.True]    -0.7364      0.428     -1.720      0.085      -1.576       0.103\n",
      "==============================================================================\n",
      "Omnibus:                   181115.723   Durbin-Watson:                   0.020\n",
      "Prob(Omnibus):                  0.000   Jarque-Bera (JB):             2512.958\n",
      "Skew:                          -0.339   Prob(JB):                         0.00\n",
      "Kurtosis:                       1.564   Cond. No.                         2.78\n",
      "==============================================================================\n",
      "\n",
      "Warnings:\n",
      "[1] Standard Errors assume that the covariance matrix of the errors is correctly specified.\n"
     ]
    }
   ],
   "source": [
    "branch_model_i = smf.ols('BRANCH_Coverage ~ correctness', data=valid_intermediate_df[[\"BRANCH_Coverage\", \"correctness\"]]).fit()\n",
    "line_model_i = smf.ols('LINE_Coverage ~ correctness', data=valid_intermediate_df[[\"LINE_Coverage\", \"correctness\"]]).fit()\n",
    "weakmutation_model_i = smf.ols('WEAKMUTATION_Coverage ~ correctness', data=valid_intermediate_df[[\"WEAKMUTATION_Coverage\", \"correctness\"]]).fit()\n",
    "cbranch_model_i = smf.ols('CBRANCH_Coverage ~ correctness', data=valid_intermediate_df[[\"CBRANCH_Coverage\", \"correctness\"]]).fit()\n",
    "print(len(full_intermediate_df.index))\n",
    "print(len(valid_intermediate_df.index))\n",
    "print(branch_model_i.summary(), line_model_i.summary(), weakmutation_model_i.summary(), cbranch_model_i.summary())\n"
   ]
  },
  {
   "cell_type": "code",
   "execution_count": 107,
   "metadata": {},
   "outputs": [
    {
     "name": "stdout",
     "output_type": "stream",
     "text": [
      "Intercept              0.000000e+00\n",
      "correctness[T.True]    3.380595e-27\n",
      "dtype: float64\n",
      "Intercept              0.000000e+00\n",
      "correctness[T.True]    2.008055e-29\n",
      "dtype: float64\n",
      "Intercept              0.000000e+00\n",
      "correctness[T.True]    1.435366e-30\n",
      "dtype: float64\n",
      "Intercept              0.000000\n",
      "correctness[T.True]    0.085431\n",
      "dtype: float64\n"
     ]
    }
   ],
   "source": [
    "print(branch_model_i.pvalues)\n",
    "print(line_model_i.pvalues)\n",
    "print(weakmutation_model_i.pvalues)\n",
    "print(cbranch_model_i.pvalues)"
   ]
  },
  {
   "cell_type": "markdown",
   "metadata": {},
   "source": []
  },
  {
   "cell_type": "code",
   "execution_count": 65,
   "metadata": {},
   "outputs": [
    {
     "name": "stdout",
     "output_type": "stream",
     "text": [
      "                 BRANCH       LINE  WEAKMUTATION  CBRANCH      TOTAL\n",
      "                                                                    \n",
      "Total         22.000000  22.000000          22.0     22.0  88.000000\n",
      "Valid         19.000000  21.000000          21.0     20.0  81.000000\n",
      "Success       13.000000  13.000000          11.0     11.0  48.000000\n",
      "Success Rate   0.590909   0.590909           0.5      0.5   0.545455\n"
     ]
    }
   ],
   "source": [
    "#Generate Tables to cound number of successful test suites (produced correct patch in 20 runs)\n",
    "success_fulltest_df = valid_fulltest_df[valid_fulltest_df[\"correctness\"]==True]\n",
    "successpatchdict = {criterion : [22,0,0,0] for criterion in criterionList}\n",
    "foundset = set()\n",
    "for index, row in success_fulltest_df.iterrows():\n",
    "    xid = (row[\"criterion\"], row[\"evo_seed\"], row[\"Total_Time\"])\n",
    "    if xid in foundset:\n",
    "        continue\n",
    "    else:\n",
    "        foundset.add(xid)\n",
    "    successpatchdict[row[\"criterion\"]][2] += 1\n",
    "    \n",
    "foundset = set() #Reset foundset, now count valid tests\n",
    "for index, row in valid_fulltest_df.iterrows():\n",
    "    xid = (row[\"criterion\"], row[\"evo_seed\"], row[\"Total_Time\"])\n",
    "    if xid in foundset:\n",
    "        continue\n",
    "    else:\n",
    "        foundset.add(xid)\n",
    "    successpatchdict[row[\"criterion\"]][1] += 1\n",
    "    \n",
    "for x in successpatchdict:\n",
    "    successpatchdict[x][3] = successpatchdict[x][2] / successpatchdict[x][0]\n",
    "    \n",
    "successpatch_df = pd.DataFrame(successpatchdict)\n",
    "successpatch_df[\"TOTAL\"] = successpatch_df.sum(axis=1)\n",
    "successpatch_df[\"\"] = [\"Total\", \"Valid\", \"Success\", \"Success Rate\"] #row names\n",
    "successpatch_df = successpatch_df.set_index(\"\")\n",
    "successpatch_df.at[\"Success Rate\", \"TOTAL\"] = 123\n",
    "\n",
    "successpatch_df.loc[\"Success Rate\"] = successpatch_df.loc[\"Success\"] / successpatch_df.loc[\"Total\"]\n",
    "print(successpatch_df)"
   ]
  },
  {
   "cell_type": "code",
   "execution_count": null,
   "metadata": {},
   "outputs": [],
   "source": []
  },
  {
   "cell_type": "markdown",
   "metadata": {},
   "source": [
    "Analysis of data (pending confirmation of which set of data to use"
   ]
  },
  {
   "cell_type": "markdown",
   "metadata": {},
   "source": [
    "## Research Question 2: How does the coverage metric of generated tests affect the performance of the generated patches?\n",
    "\n"
   ]
  },
  {
   "cell_type": "code",
   "execution_count": 66,
   "metadata": {},
   "outputs": [],
   "source": [
    "##In order to measure this, we plot a histogram for each coverage criterion and track the distribution of their speedups.\n",
    "# We only consider test suites which produce patches. Considering patches which overfit is pointless.\n",
    "correct_df = auto_df[auto_df[\"correctness\"]==True]\n",
    "correct_woutliers_df = correct_df[correct_df[\"speedup\"] > -10]\n"
   ]
  },
  {
   "cell_type": "code",
   "execution_count": 67,
   "metadata": {
    "scrolled": true
   },
   "outputs": [
    {
     "name": "stdout",
     "output_type": "stream",
     "text": [
      "528\n"
     ]
    },
    {
     "data": {
      "image/png": "[encoded data removed]",
      "text/plain": [
       "<Figure size 720x720 with 4 Axes>"
      ]
     },
     "metadata": {},
     "output_type": "display_data"
    }
   ],
   "source": [
    "fig, ((ax0, ax1), (ax2, ax3)) = plt.subplots(2,2)\n",
    "fig.set_figheight(10)\n",
    "fig.set_figwidth(10)\n",
    "axes = [ax0, ax1, ax2, ax3]\n",
    "for index in range(len(criterionList)):\n",
    "    ax = axes[index]\n",
    "    colname = criterionList[index] + \"_Coverage\"\n",
    "    x_vals = correct_woutliers_df[colname]\n",
    "    y_vals = correct_woutliers_df[\"speedup\"]\n",
    "    m, c = np.polyfit(x_vals, y_vals, 1)\n",
    "    ax.scatter(x_vals, y_vals)\n",
    "    ax.plot(x_vals, m * x_vals + c)\n",
    "    ax.set_xlabel(colname, fontsize=13)\n",
    "    ax.set_ylabel(\"Speedup\", fontsize=13)\n",
    "    ax.tick_params(labelsize=11)\n",
    "print(len(correct_woutliers_df.index))\n",
    "fig.savefig(\"q2ScatterCorrectSpeedup.png\")"
   ]
  },
  {
   "cell_type": "code",
   "execution_count": 68,
   "metadata": {},
   "outputs": [
    {
     "name": "stdout",
     "output_type": "stream",
     "text": [
      "                            OLS Regression Results                            \n",
      "==============================================================================\n",
      "Dep. Variable:        BRANCH_Coverage   R-squared:                       0.009\n",
      "Model:                            OLS   Adj. R-squared:                  0.007\n",
      "Method:                 Least Squares   F-statistic:                     4.696\n",
      "Date:                Tue, 05 May 2020   Prob (F-statistic):             0.0307\n",
      "Time:                        07:14:54   Log-Likelihood:                -2505.9\n",
      "No. Observations:                 528   AIC:                             5016.\n",
      "Df Residuals:                     526   BIC:                             5024.\n",
      "Df Model:                           1                                         \n",
      "Covariance Type:            nonrobust                                         \n",
      "==============================================================================\n",
      "                 coef    std err          t      P>|t|      [0.025      0.975]\n",
      "------------------------------------------------------------------------------\n",
      "Intercept     67.1626      1.487     45.156      0.000      64.241      70.085\n",
      "speedup        0.0722      0.033      2.167      0.031       0.007       0.138\n",
      "==============================================================================\n",
      "Omnibus:                       67.889   Durbin-Watson:                   0.794\n",
      "Prob(Omnibus):                  0.000   Jarque-Bera (JB):               92.814\n",
      "Skew:                          -1.022   Prob(JB):                     7.01e-21\n",
      "Kurtosis:                       2.791   Cond. No.                         54.7\n",
      "==============================================================================\n",
      "\n",
      "Warnings:\n",
      "[1] Standard Errors assume that the covariance matrix of the errors is correctly specified.                             OLS Regression Results                            \n",
      "==============================================================================\n",
      "Dep. Variable:          LINE_Coverage   R-squared:                       0.006\n",
      "Model:                            OLS   Adj. R-squared:                  0.004\n",
      "Method:                 Least Squares   F-statistic:                     3.004\n",
      "Date:                Tue, 05 May 2020   Prob (F-statistic):             0.0836\n",
      "Time:                        07:14:54   Log-Likelihood:                -2528.2\n",
      "No. Observations:                 528   AIC:                             5060.\n",
      "Df Residuals:                     526   BIC:                             5069.\n",
      "Df Model:                           1                                         \n",
      "Covariance Type:            nonrobust                                         \n",
      "==============================================================================\n",
      "                 coef    std err          t      P>|t|      [0.025      0.975]\n",
      "------------------------------------------------------------------------------\n",
      "Intercept     72.6490      1.551     46.828      0.000      69.601      75.697\n",
      "speedup        0.0602      0.035      1.733      0.084      -0.008       0.128\n",
      "==============================================================================\n",
      "Omnibus:                       91.562   Durbin-Watson:                   0.749\n",
      "Prob(Omnibus):                  0.000   Jarque-Bera (JB):              139.386\n",
      "Skew:                          -1.250   Prob(JB):                     5.40e-31\n",
      "Kurtosis:                       3.285   Cond. No.                         54.7\n",
      "==============================================================================\n",
      "\n",
      "Warnings:\n",
      "[1] Standard Errors assume that the covariance matrix of the errors is correctly specified.                               OLS Regression Results                             \n",
      "=================================================================================\n",
      "Dep. Variable:     WEAKMUTATION_Coverage   R-squared:                       0.005\n",
      "Model:                               OLS   Adj. R-squared:                  0.003\n",
      "Method:                    Least Squares   F-statistic:                     2.830\n",
      "Date:                   Tue, 05 May 2020   Prob (F-statistic):             0.0931\n",
      "Time:                           07:14:54   Log-Likelihood:                -2593.8\n",
      "No. Observations:                    528   AIC:                             5192.\n",
      "Df Residuals:                        526   BIC:                             5200.\n",
      "Df Model:                              1                                         \n",
      "Covariance Type:               nonrobust                                         \n",
      "==============================================================================\n",
      "                 coef    std err          t      P>|t|      [0.025      0.975]\n",
      "------------------------------------------------------------------------------\n",
      "Intercept     67.9727      1.757     38.696      0.000      64.522      71.423\n",
      "speedup        0.0662      0.039      1.682      0.093      -0.011       0.143\n",
      "==============================================================================\n",
      "Omnibus:                       81.486   Durbin-Watson:                   0.653\n",
      "Prob(Omnibus):                  0.000   Jarque-Bera (JB):              120.029\n",
      "Skew:                          -1.168   Prob(JB):                     8.63e-27\n",
      "Kurtosis:                       2.989   Cond. No.                         54.7\n",
      "==============================================================================\n",
      "\n",
      "Warnings:\n",
      "[1] Standard Errors assume that the covariance matrix of the errors is correctly specified.                             OLS Regression Results                            \n",
      "==============================================================================\n",
      "Dep. Variable:       CBRANCH_Coverage   R-squared:                       0.001\n",
      "Model:                            OLS   Adj. R-squared:                 -0.001\n",
      "Method:                 Least Squares   F-statistic:                    0.6492\n",
      "Date:                Tue, 05 May 2020   Prob (F-statistic):              0.421\n",
      "Time:                        07:14:54   Log-Likelihood:                -2564.0\n",
      "No. Observations:                 528   AIC:                             5132.\n",
      "Df Residuals:                     526   BIC:                             5140.\n",
      "Df Model:                           1                                         \n",
      "Covariance Type:            nonrobust                                         \n",
      "==============================================================================\n",
      "                 coef    std err          t      P>|t|      [0.025      0.975]\n",
      "------------------------------------------------------------------------------\n",
      "Intercept     62.3496      1.660     37.556      0.000      59.088      65.611\n",
      "speedup       -0.0299      0.037     -0.806      0.421      -0.103       0.043\n",
      "==============================================================================\n",
      "Omnibus:                      174.588   Durbin-Watson:                   0.607\n",
      "Prob(Omnibus):                  0.000   Jarque-Bera (JB):               59.385\n",
      "Skew:                          -0.628   Prob(JB):                     1.27e-13\n",
      "Kurtosis:                       1.941   Cond. No.                         54.7\n",
      "==============================================================================\n",
      "\n",
      "Warnings:\n",
      "[1] Standard Errors assume that the covariance matrix of the errors is correctly specified.\n"
     ]
    }
   ],
   "source": [
    "branch_model_2 = smf.ols('BRANCH_Coverage ~ speedup', data=correct_woutliers_df[[\"BRANCH_Coverage\", \"speedup\"]]).fit()\n",
    "line_model_2 = smf.ols('LINE_Coverage ~ speedup', data=correct_woutliers_df[[\"LINE_Coverage\", \"speedup\"]]).fit()\n",
    "weakmutation_model_2 = smf.ols('WEAKMUTATION_Coverage ~ speedup', data=correct_woutliers_df[[\"WEAKMUTATION_Coverage\", \"speedup\"]]).fit()\n",
    "cbranch_model_2 = smf.ols('CBRANCH_Coverage ~ speedup', data=correct_woutliers_df[[\"CBRANCH_Coverage\", \"speedup\"]]).fit()\n",
    "print(branch_model_2.summary(), line_model_2.summary(), weakmutation_model_2.summary(), cbranch_model_2.summary())"
   ]
  },
  {
   "cell_type": "code",
   "execution_count": 69,
   "metadata": {},
   "outputs": [
    {
     "data": {
      "image/png": "[encoded data removed]",
      "text/plain": [
       "<Figure size 504x504 with 1 Axes>"
      ]
     },
     "metadata": {},
     "output_type": "display_data"
    }
   ],
   "source": [
    "fig , ax = plt.subplots()\n",
    "fig.set_figheight(7)\n",
    "fig.set_figwidth(7)\n",
    "correct_woutliers_df = correct_woutliers_df.loc[correct_woutliers_df[\"sampled\"]==False]\n",
    "y_vals = correct_woutliers_df[\"speedup\"]\n",
    "ax.hist(y_vals, 10)\n",
    "ax.set_xlabel(\"Speedup %\")\n",
    "ax.set_ylabel(\"Count of Test Suites\")\n",
    "\n",
    "criterionstats = dict()\n",
    "criterionstats[\"Total\"] = (len(y_vals), np.mean(y_vals), np.std(y_vals))\n",
    "yvals_list = [y_vals.copy()]\n",
    "\n",
    "fig.savefig(\"q2HistAllSpeedup.png\")"
   ]
  },
  {
   "cell_type": "code",
   "execution_count": 70,
   "metadata": {
    "scrolled": true
   },
   "outputs": [
    {
     "data": {
      "image/png": "[encoded data removed]",
      "text/plain": [
       "<Figure size 1080x1080 with 4 Axes>"
      ]
     },
     "metadata": {},
     "output_type": "display_data"
    }
   ],
   "source": [
    "fig, ((ax0, ax1), (ax2, ax3)) = plt.subplots(2,2)\n",
    "fig.set_figheight(15)\n",
    "fig.set_figwidth(15)\n",
    "axes = [ax0, ax1, ax2, ax3]\n",
    "\n",
    "\n",
    "for index in range(len(criterionList)):\n",
    "    #We only use original, non-sampled tests here. Thoughts: we want to see how evosuite coverage criterion affects. Sampled tests are not in any way representative of real life tests, thus not useful.\n",
    "    criterion_spec_df = correct_woutliers_df[(correct_woutliers_df[\"criterion\"]==criterionList[index]) & (correct_woutliers_df[\"sampled\"] == False)]\n",
    "    ax = axes[index]\n",
    "    y_vals = criterion_spec_df[\"speedup\"]\n",
    "    yvals_list.append(y_vals.copy())\n",
    "    criterionstats[criterionList[index]] = (len(y_vals), np.mean(y_vals), np.std(y_vals))\n",
    "    ax.hist(y_vals, 5)\n",
    "    ax.set_title(criterionList[index])\n",
    "    ax.set_xlabel(\"Speedup %\")\n",
    "    ax.set_ylabel(\"Count of Test Suites\")\n",
    "fig.savefig(\"q2HistCriterionSpeedup.png\")"
   ]
  },
  {
   "cell_type": "code",
   "execution_count": 71,
   "metadata": {},
   "outputs": [
    {
     "data": {
      "image/png": "[encoded data removed]",
      "text/plain": [
       "<Figure size 576x432 with 1 Axes>"
      ]
     },
     "metadata": {},
     "output_type": "display_data"
    }
   ],
   "source": [
    "fig , ax = plt.subplots()\n",
    "fig.set_figheight(6)\n",
    "fig.set_figwidth(8)\n",
    "ax.boxplot(yvals_list, labels=criterionstats.keys(), showfliers=False)\n",
    "ax.set_ylabel(\"% Speedup on evaluation test\", fontsize=14)\n",
    "ax.set_xlabel(\"Test Criterion used for Patch generation\", fontsize=14)\n",
    "ax.set_label(\"Boxplot comparisons of speedup% by test generation criterion\")\n",
    "ax.tick_params(labelsize=13)\n",
    "fig.savefig(\"q2BoxplotCriterionSpeedup.png\")"
   ]
  },
  {
   "cell_type": "code",
   "execution_count": 133,
   "metadata": {},
   "outputs": [
    {
     "name": "stdout",
     "output_type": "stream",
     "text": [
      "rows          Total Count  Mean Speedup     Stddev\n",
      "Total                98.0     25.576723  33.304733\n",
      "BRANCH               31.0     38.298936  34.485357\n",
      "LINE                 20.0     21.744244  31.256747\n",
      "WEAKMUTATION         20.0     26.337147  35.270580\n",
      "CBRANCH              27.0     13.245335  25.810701\n"
     ]
    },
    {
     "data": {
      "text/plain": [
       "Ttest_indResult(statistic=-2.6364214255956138, pvalue=0.009772204851875793)"
      ]
     },
     "execution_count": 133,
     "metadata": {},
     "output_type": "execute_result"
    }
   ],
   "source": [
    "q2stats_df = pd.DataFrame(criterionstats)\n",
    "q2stats_df[\"rows\"] = [\"Total Count\", \"Mean Speedup\", \"Stddev\"]\n",
    "q2stats_df = q2stats_df.set_index(\"rows\")\n",
    "\n",
    "q2stats_df = q2stats_df.transpose()\n",
    "print(q2stats_df)\n",
    "\n",
    "\n",
    "sp.stats.ttest_ind(yvals_list[2].append(yvals_list[3]).append(yvals_list[4]), yvals_list[1])"
   ]
  },
  {
   "cell_type": "markdown",
   "metadata": {},
   "source": [
    "#### Some notes:\n",
    "Scatterplot distribution above is interesting. Seems to suggest a few things:\n",
    "\n",
    "Firstly, tests congregate around the high and lower values, there are few tests in the middle of the coverage spectrum. Given the way we vary coverage, could it be the way that evosuite generates tests - one test that has high coverage of most features and other tests to test smaller features? or something like that that the data seems to suggest\n",
    "\n",
    "Secondly, the negative gradient seems to suggest that as coverage from the automated test suite increases, the total speedup accrued by GIN falls among \"Correct\" patches even. This could be due to the following : Automated tests being too restrictive? Restricting the behaviour of the program in ways that the developer did not intend. For example, a sorting program which tests a sort program may cover the entire codebase, but not actually test for required functionality (take an evosuite test which tests the sorting function on an already sorted list, or sorts a list, but compares the results using \"AssertSame\" which checks that they are merely the same object reference. These tests achieve high coverage but fail to actually capture the required behaviour of the program.\n"
   ]
  },
  {
   "cell_type": "code",
   "execution_count": 111,
   "metadata": {},
   "outputs": [],
   "source": [
    "manual_df = full_df[full_df[\"criterion\"] == \"MANUAL\"]\n",
    "valid_manual_df = manual_df[manual_df[\"validpatch\"] == True]\n",
    "manual_intermediate_df = full_intermediate_df[full_intermediate_df[\"criterion\"] == \"MANUAL\"]\n",
    "valid_intermediate_manual_df = manual_intermediate_df[manual_intermediate_df[\"validpatch\"] == True]\n"
   ]
  },
  {
   "cell_type": "code",
   "execution_count": 112,
   "metadata": {},
   "outputs": [
    {
     "name": "stdout",
     "output_type": "stream",
     "text": [
      "98\n",
      "283\n",
      "98\n",
      "1662\n",
      "34\n",
      "6\n",
      "34\n",
      "186\n",
      "3053\n",
      "2599\n",
      "437\n",
      "2\n"
     ]
    }
   ],
   "source": [
    "autoCorrect = len(valid_fulltest_df.loc[(valid_fulltest_df[\"correctness\"]==True)].index)\n",
    "autoWrong = len(valid_fulltest_df.loc[(valid_fulltest_df[\"correctness\"]==False)].index)\n",
    "print(autoCorrect)\n",
    "print(autoWrong)\n",
    "autoSuccess = len(fulltest_df.loc[(fulltest_df[\"correctness\"]==True)].index)\n",
    "autoFail = len(fulltest_df.loc[(fulltest_df[\"correctness\"]==False)].index)\n",
    "print(autoSuccess)\n",
    "print(autoFail)\n",
    "manualCorrect = len(valid_manual_df.loc[(valid_manual_df[\"correctness\"]==True)].index)\n",
    "manualWrong = len(valid_manual_df.loc[(valid_manual_df[\"correctness\"]==False)].index)\n",
    "print(manualCorrect)\n",
    "print(manualWrong)\n",
    "manualSuccess = len(manual_df.loc[(manual_df[\"correctness\"]==True)].index)\n",
    "manualFail = len(manual_df.loc[(manual_df[\"correctness\"]==False)].index)\n",
    "print(manualSuccess)\n",
    "print(manualFail)\n",
    "\n",
    "autoIntCorrect = len(valid_intermediate_fulltest_df.loc[(valid_intermediate_fulltest_df[\"correctness\"]==True)].index)\n",
    "autoIntWrong = len(valid_intermediate_fulltest_df.loc[(valid_intermediate_fulltest_df[\"correctness\"]==False)].index)\n",
    "print(autoIntCorrect)\n",
    "print(autoIntWrong)\n",
    "manualIntCorrect = len(valid_intermediate_manual_df.loc[(valid_intermediate_manual_df[\"correctness\"]==True)].index)\n",
    "manualIntWrong = len(valid_intermediate_manual_df.loc[(valid_intermediate_manual_df[\"correctness\"]==False)].index)\n",
    "print(manualIntCorrect)\n",
    "print(manualIntWrong)\n",
    "\n",
    "correctdict = dict()\n",
    "correctdict[\"EvoSuite\"] = (autoCorrect, autoWrong)\n",
    "correctdict[\"Manual\"] = (manualCorrect, manualWrong)"
   ]
  },
  {
   "cell_type": "code",
   "execution_count": 113,
   "metadata": {},
   "outputs": [
    {
     "ename": "SyntaxError",
     "evalue": "EOL while scanning string literal (<ipython-input-113-09c0a1c55cb8>, line 25)",
     "output_type": "error",
     "traceback": [
      "\u001b[1;36m  File \u001b[1;32m\"<ipython-input-113-09c0a1c55cb8>\"\u001b[1;36m, line \u001b[1;32m25\u001b[0m\n\u001b[1;33m    fig.savefig(\"q3BarManualVsAutoCorrectness.png\u001b[0m\n\u001b[1;37m                                                 ^\u001b[0m\n\u001b[1;31mSyntaxError\u001b[0m\u001b[1;31m:\u001b[0m EOL while scanning string literal\n"
     ]
    }
   ],
   "source": [
    "#Plot bar graph using above data THIS IS comparing correctness i.e Ability to generate + correct patches\n",
    "fig, ax = plt.subplots()\n",
    "n_groups = 2\n",
    "bar_spacing = 1.5\n",
    "index = np.arange(n_groups * bar_spacing, step=bar_spacing)\n",
    "bar_width = 0.5\n",
    "opacity = 0.8\n",
    "\n",
    "correctbars = ax.bar(index, [x[0] for x in list(correctdict.values())], bar_width, alpha=opacity, \\\n",
    "                      color='g', label=\"Correct Patches\")\n",
    "wrongbars = ax.bar(index + bar_width, [x[1] for x in list(correctdict.values())], bar_width, alpha=opacity, \\\n",
    "                   color='b', label=\"Incorrect Patches\")\n",
    "\n",
    "plt.xticks((index + bar_width / 2), correctdict.keys(), fontsize='large')\n",
    "#ax.set_yticks(np.arange(0, 100, 10), minor=True)\n",
    "ax.grid(b=True, which='minor', color='w', linewidth=1.0)\n",
    "ax.legend(fontsize=13)\n",
    "\n",
    "plt.ylabel(\"Number of Patches\", fontsize=13)\n",
    "plt.xlabel(\"Type of Test Suite used to generate patch\", fontsize=13)\n",
    "\n",
    "plt.tick_params(labelsize=13)\n",
    "plt.tight_layout()\n",
    "print(correctdict)\n",
    "fig.savefig(\"q3BarManualVsAutoCorrectness.png"
   ]
  },
  {
   "cell_type": "code",
   "execution_count": 114,
   "metadata": {},
   "outputs": [
    {
     "data": {
      "text/plain": [
       "641       4.651689\n",
       "642      -1.204850\n",
       "646       9.207785\n",
       "647       4.862214\n",
       "649       1.882534\n",
       "650       6.633916\n",
       "651      -7.940985\n",
       "653      -1.871837\n",
       "654       0.538719\n",
       "657     -13.011066\n",
       "658       1.042389\n",
       "659       6.292092\n",
       "1307      2.495592\n",
       "2629      2.252370\n",
       "2635      0.646482\n",
       "3282     -4.286749\n",
       "3285     71.033226\n",
       "3942     -9.110801\n",
       "3957     -4.916297\n",
       "4600     13.762733\n",
       "4601     -0.623250\n",
       "4603      0.069419\n",
       "4606    -12.329645\n",
       "4614     -5.795810\n",
       "4615     22.910057\n",
       "4619    -11.621730\n",
       "5260     -1.932748\n",
       "5263     -3.305348\n",
       "5271     -1.673806\n",
       "5272     -4.853399\n",
       "5276     -8.166308\n",
       "5279      0.167857\n",
       "6582     10.012580\n",
       "6583    -13.812508\n",
       "6589   -282.800230\n",
       "7240      9.538959\n",
       "7243      0.799815\n",
       "7249      3.655404\n",
       "7254   -247.768950\n",
       "7255      0.525761\n",
       "Name: speedup, dtype: float64"
      ]
     },
     "execution_count": 114,
     "metadata": {},
     "output_type": "execute_result"
    }
   ],
   "source": [
    "valid_manual_df[\"speedup\"]"
   ]
  },
  {
   "cell_type": "code",
   "execution_count": 115,
   "metadata": {},
   "outputs": [],
   "source": [
    "manual_correct_woutliers_df = valid_manual_df.loc[(valid_manual_df[\"correctness\"] == True) & (valid_manual_df[\"speedup\"] >= -10) ]"
   ]
  },
  {
   "cell_type": "code",
   "execution_count": 116,
   "metadata": {},
   "outputs": [
    {
     "data": {
      "image/png": "[encoded data removed]",
      "text/plain": [
       "<Figure size 1080x432 with 2 Axes>"
      ]
     },
     "metadata": {},
     "output_type": "display_data"
    }
   ],
   "source": [
    "fig , (ax1, ax2) = plt.subplots(1, 2)\n",
    "fig.set_figheight(6)\n",
    "fig.set_figwidth(15)\n",
    "\n",
    "a_y_vals = correct_woutliers_df[\"speedup\"]\n",
    "ax1.hist(a_y_vals, 10)\n",
    "ax1.set_label(\"Automatically Generated Test Suites\")\n",
    "ax1.set_xlabel(\"Speedup %\")\n",
    "ax1.set_ylabel(\"Count of Test Suites\")\n",
    "\n",
    "m_y_vals = manual_correct_woutliers_df[\"speedup\"]\n",
    "ax2.hist(m_y_vals, 10)\n",
    "ax2.set_xlabel(\"Speedup %\")\n",
    "ax2.set_ylabel(\"Count of Test Suites\")\n",
    "ax1.set_label(\"Manual Test Suites\")\n",
    "\n",
    "fig.savefig(\"q3HistManualVsAutoSpeedup.png\")"
   ]
  },
  {
   "cell_type": "code",
   "execution_count": 117,
   "metadata": {},
   "outputs": [
    {
     "data": {
      "image/png": "[encoded data removed]",
      "text/plain": [
       "<Figure size 432x288 with 1 Axes>"
      ]
     },
     "metadata": {},
     "output_type": "display_data"
    }
   ],
   "source": [
    "fig, ax = plt.subplots()\n",
    "ax.boxplot([a_y_vals, m_y_vals], labels=[\"Automated Test Suites\", \"Manual Test Suites\" ], showfliers=False)\n",
    "ax.set_ylabel(\"% Speedup on evaluation test\", fontsize=13)\n",
    "ax.set_label(\"Boxplot comparisons of speedup% by type of test suite\",)\n",
    "ax.tick_params(labelsize=12.5)\n",
    "fig.savefig(\"q3BoxplotAutoManualSpeedup.png\")"
   ]
  },
  {
   "cell_type": "code",
   "execution_count": 118,
   "metadata": {},
   "outputs": [
    {
     "name": "stdout",
     "output_type": "stream",
     "text": [
      "88.45588235294117 90.9438775510204\n",
      "{'BRANCH': 89.52941176470588, 'LINE': 89.32352941176471, 'WEAKMUTATION': 95.67647058823529, 'CBRANCH': 79.29411764705883}\n"
     ]
    }
   ],
   "source": [
    "#Calculation of average coverage between tests\n",
    "\n",
    "man_cov_mean = np.mean(manual_correct_woutliers_df[\"AVG_coverage\"])\n",
    "auto_cov_mean = np.mean(correct_woutliers_df[\"AVG_coverage\"])\n",
    "\n",
    "print(man_cov_mean, auto_cov_mean)\n",
    "\n",
    "man_cov_mean_dict = {x : np.mean(manual_correct_woutliers_df[x + \"_Coverage\"]) for x in criterionList}\n",
    "print(man_cov_mean_dict)"
   ]
  },
  {
   "cell_type": "code",
   "execution_count": 134,
   "metadata": {},
   "outputs": [
    {
     "name": "stdout",
     "output_type": "stream",
     "text": [
      "rows    Total Count  Mean Speedup     Stddev  Overfitting Rate  Avg Coverage\n",
      "auto           98.0     25.576723  33.304733          0.742782     90.943878\n",
      "manual         34.0      3.449982  13.423456          0.150000     88.455882\n",
      "{'auto': (98, 25.57672326806123, 33.304732763812176), 'manual': (34, 3.4499824220588233, 13.423456350373229)}\n"
     ]
    }
   ],
   "source": [
    "amcriterionstats = dict()\n",
    "amcriterionstats[\"auto\"] = (len(a_y_vals), np.mean(a_y_vals), np.std(a_y_vals))\n",
    "amcriterionstats[\"manual\"] = (len(m_y_vals), np.mean(m_y_vals), np.std(m_y_vals))                       \n",
    "q3stats_df = pd.DataFrame(amcriterionstats)\n",
    "q3stats_df[\"rows\"] = [\"Total Count\", \"Mean Speedup\", \"Stddev\"]\n",
    "q3stats_df = q3stats_df.set_index(\"rows\")\n",
    "overfit_rate = [correctdict[title][1] / (correctdict[title][0] + correctdict[title][1]) for title in correctdict.keys()]\n",
    "q3stats_df = q3stats_df.transpose()\n",
    "q3stats_df[\"Overfitting Rate\"] = overfit_rate\n",
    "q3stats_df[\"Avg Coverage\"] = [auto_cov_mean, man_cov_mean]\n",
    "\n",
    "print(q3stats_df)\n",
    "\n",
    "sp.stats.ttest_ind(a_y_vals, m_y_vals)\n",
    "\n"
   ]
  },
  {
   "cell_type": "code",
   "execution_count": 136,
   "metadata": {},
   "outputs": [
    {
     "name": "stdout",
     "output_type": "stream",
     "text": [
      "88.45588235294117 90.9438775510204\n",
      "{'BRANCH': 89.52941176470588, 'LINE': 89.32352941176471, 'WEAKMUTATION': 95.67647058823529, 'CBRANCH': 79.29411764705883}\n",
      "{'BRANCH': 93.61224489795919, 'LINE': 94.01020408163265, 'WEAKMUTATION': 90.59183673469387, 'CBRANCH': 85.56122448979592}\n"
     ]
    }
   ],
   "source": [
    "#Calculation of average coverage between tests\n",
    "\n",
    "man_cov_mean = np.mean(manual_correct_woutliers_df[\"AVG_coverage\"])\n",
    "auto_cov_mean = np.mean(correct_woutliers_df[\"AVG_coverage\"])\n",
    "\n",
    "print(man_cov_mean, auto_cov_mean)\n",
    "\n",
    "man_cov_mean_dict = {x : np.mean(manual_correct_woutliers_df[x + \"_Coverage\"]) for x in criterionList}\n",
    "auto_cov_mean_dict = {x : np.mean(correct_woutliers_df[x + \"_Coverage\"]) for x in criterionList}\n",
    "print(man_cov_mean_dict)\n",
    "print(auto_cov_mean_dict)"
   ]
  },
  {
   "cell_type": "markdown",
   "metadata": {},
   "source": [
    "## RQ4 Functional Overfitting in Manual vs Automated Tests"
   ]
  },
  {
   "cell_type": "code",
   "execution_count": null,
   "metadata": {},
   "outputs": [],
   "source": [
    "negSpeedupAuto_df = valid_fulltest_df.loc[(valid_df[\"speedup\"] < 0)]# & (valid_fulltest_df[\"success\"] == True)]\n",
    "criterionList = [\"BRANCH\", \"LINE\", \"WEAKMUTATION\", \"CBRANCH\"]\n",
    "\n",
    "total_overfit = len(negSpeedupAuto_df.index)\n",
    "total_non_overfit = len(valid_fulltest_df.loc[(valid_fulltest_df[\"speedup\"] >= 0)].index)\n",
    "overfitdict = dict()\n",
    "overfitdict[\"TOTAL\"] = (total_overfit, total_non_overfit)\n",
    "for x in criterionList:\n",
    "    overfit = len(negSpeedupAuto_df.loc[(negSpeedupAuto_df[\"criterion\"] == x)].index)\n",
    "    non_overfit = len(valid_fulltest_df.loc[(valid_fulltest_df[\"speedup\"] >= 0) & (valid_fulltest_df[\"criterion\"] == x)].index)\n",
    "    overfitdict[x] = (overfit, non_overfit)\n",
    "print(overfitdict)"
   ]
  },
  {
   "cell_type": "code",
   "execution_count": null,
   "metadata": {},
   "outputs": [],
   "source": [
    "#Plot bar graph using above data\n",
    "fig, ax = plt.subplots()\n",
    "n_groups = 5\n",
    "bar_spacing = 1.5\n",
    "index = np.arange(n_groups * bar_spacing, step=bar_spacing)\n",
    "bar_width = 0.5\n",
    "opacity = 0.8\n",
    "\n",
    "\n",
    "propbars = ax.bar(index, [x[0] /(x[1] + x[0]) for x in list(overfitdict.values())], bar_width, alpha=opacity, \\\n",
    "                      color='r')\n",
    "#wrongbars = ax.bar(index + bar_width, [x[1] for x in list(overfitdict.values())], bar_width, alpha=opacity, \\\n",
    "                   #color='b', label=\"Functionally Non-Overfitting Test Suites\")\n",
    "\n",
    "plt.xticks((index), overfitdict.keys(), fontsize='medium')\n",
    "#ax.set_yticks(np.arange(0, 100, 10), minor=True)\n",
    "ax.grid(b=True, which='minor', color='w', linewidth=1.0)\n",
    "#ax.legend()\n",
    "\n",
    "plt.ylabel(\"Proportion of Functionally Overfittting Test Suites\")\n",
    "plt.xlabel(\"Type of Test Suite\")\n",
    "#plt.tight_layout()\n",
    "fig.savefig(\"q4BarFunctionalOverfittingProportion\")"
   ]
  },
  {
   "cell_type": "code",
   "execution_count": null,
   "metadata": {},
   "outputs": [],
   "source": [
    "#Combined Overfitting Proportion"
   ]
  },
  {
   "cell_type": "code",
   "execution_count": null,
   "metadata": {},
   "outputs": [],
   "source": [
    "combined_overfitting_df = valid_fulltest_df.loc[(valid_fulltest_df[\"success\"] == False) | (valid_fulltest_df[\"speedup\"] < 0)]\n",
    "criterionList = [\"BRANCH\", \"LINE\", \"WEAKMUTATION\", \"CBRANCH\"]\n",
    "\n",
    "total_overfit = len(combined_overfitting_df.index)\n",
    "total_non_overfit = len(valid_fulltest_df.index) - len(combined_overfitting_df.index)\n",
    "combined_overfitdict = dict()\n",
    "combined_overfitdict[\"TOTAL\"] = (total_overfit, total_non_overfit)\n",
    "for x in criterionList:\n",
    "    overfit = len(combined_overfitting_df.loc[(combined_overfitting_df[\"criterion\"] == x)].index)\n",
    "    non_overfit = len(valid_fulltest_df.loc[valid_fulltest_df[\"criterion\"]== x].index) - overfit\n",
    "    combined_overfitdict[x] = (overfit, non_overfit)\n",
    "print(combined_overfitdict)\n",
    "\n",
    "#These stats show us the complete proportion of tests which overfit to trainign suite both functionally and non-functionally"
   ]
  },
  {
   "cell_type": "code",
   "execution_count": null,
   "metadata": {},
   "outputs": [],
   "source": [
    "#Plot bar graph using above data\n",
    "fig, ax = plt.subplots()\n",
    "n_groups = 5\n",
    "bar_spacing = 1.5\n",
    "index = np.arange(n_groups * bar_spacing, step=bar_spacing)\n",
    "bar_width = 0.5\n",
    "opacity = 0.8\n",
    "\n",
    "\n",
    "propbars = ax.bar(index, [x[0] /(x[1] + x[0]) for x in list(combined_overfitdict.values())], bar_width, alpha=opacity, \\\n",
    "                      color='r')\n",
    "#wrongbars = ax.bar(index + bar_width, [x[1] for x in list(combined_overfitdict.values())], bar_width, alpha=opacity, \\\n",
    "                   #color='b', label=\"Functionally Non-Overfitting Test Suites\")\n",
    "\n",
    "plt.xticks((index), combined_overfitdict.keys(), fontsize='medium')\n",
    "#ax.set_yticks(np.arange(0, 100, 10), minor=True)\n",
    "ax.grid(b=True, which='minor', color='w', linewidth=1.0)\n",
    "#ax.legend()\n",
    "\n",
    "plt.ylabel(\"Proportion of Total Overfittting Test Suites\")\n",
    "plt.xlabel(\"Type of Test Suite\")\n",
    "#plt.tight_layout()\n",
    "fig.savefig(\"q4BarTotalOverfittingProportion\")"
   ]
  },
  {
   "cell_type": "code",
   "execution_count": null,
   "metadata": {},
   "outputs": [],
   "source": []
  },
  {
   "cell_type": "code",
   "execution_count": null,
   "metadata": {},
   "outputs": [],
   "source": []
  }
 ],
 "metadata": {
  "kernelspec": {
   "display_name": "Python 3",
   "language": "python",
   "name": "python3"
  },
  "language_info": {
   "codemirror_mode": {
    "name": "ipython",
    "version": 3
   },
   "file_extension": ".py",
   "mimetype": "text/x-python",
   "name": "python",
   "nbconvert_exporter": "python",
   "pygments_lexer": "ipython3",
   "version": "3.6.10"
  }
 },
 "nbformat": 4,
 "nbformat_minor": 2
}
